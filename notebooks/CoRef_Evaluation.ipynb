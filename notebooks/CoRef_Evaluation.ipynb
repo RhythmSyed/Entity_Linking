{
 "cells": [
  {
   "cell_type": "markdown",
   "metadata": {},
   "source": [
    "# Coreference Resolution"
   ]
  },
  {
   "cell_type": "markdown",
   "metadata": {},
   "source": [
    "In this notebook, we investigate methods for coreference resolution. In NLP, coreference resolution analyzes references of text that point to the same entity. For example, given a sentence such as \\\n",
    "**'My brother loves to play basketball. He plays as a point guard'**, \\\n",
    "this sentence will get resolved as \\\n",
    "**'My brother loves to play basketball. My brother plays as a point guard'**.\\\n",
    "\\\n",
    "This reduces the complexity in speech that is evident in a wide variety of text sources."
   ]
  },
  {
   "cell_type": "code",
   "execution_count": 1,
   "metadata": {},
   "outputs": [
    {
     "data": {
      "text/plain": [
       "'Darth Vader, also known by his birth name Anakin Skywalker, is a fictional character in the Star Wars franchise. Darth Vader appears in the original film trilogy as a pivotal antagonist whose actions drive the plot, while his past as Anakin Skywalker and the story of his corruption are central to the narrative of the prequel trilogy. The character was created by George Lucas and has been portrayed by numerous actors. His appearances span the first six Star Wars films, as well as Rogue One, and his character is heavily referenced in Star Wars: The Force Awakens. He is also an important character in the Star Wars expanded universe of television series, video games, novels, literature and comic books. Originally a Jedi who was prophesied to bring balance to the Force, he falls to the dark side of the Force and serves the evil Galactic Empire at the right hand of his Sith master, Emperor Palpatine (also known as Darth Sidious).'"
      ]
     },
     "execution_count": 1,
     "metadata": {},
     "output_type": "execute_result"
    }
   ],
   "source": [
    "starwars_text = 'Darth Vader, also known by his birth name Anakin Skywalker, is a fictional character in the Star Wars franchise. Darth Vader appears in the original film trilogy as a pivotal antagonist whose actions drive the plot, while his past as Anakin Skywalker and the story of his corruption are central to the narrative of the prequel trilogy. The character was created by George Lucas and has been portrayed by numerous actors. His appearances span the first six Star Wars films, as well as Rogue One, and his character is heavily referenced in Star Wars: The Force Awakens. He is also an important character in the Star Wars expanded universe of television series, video games, novels, literature and comic books. Originally a Jedi who was prophesied to bring balance to the Force, he falls to the dark side of the Force and serves the evil Galactic Empire at the right hand of his Sith master, Emperor Palpatine (also known as Darth Sidious).'\n",
    "starwars_text"
   ]
  },
  {
   "cell_type": "code",
   "execution_count": 2,
   "metadata": {},
   "outputs": [],
   "source": [
    "import spacy\n",
    "from stanfordcorenlp import StanfordCoreNLP\n",
    "import json\n",
    "from collections import defaultdict\n",
    "import nltk"
   ]
  },
  {
   "cell_type": "markdown",
   "metadata": {},
   "source": [
    "# Stanford CoreNLP"
   ]
  },
  {
   "cell_type": "code",
   "execution_count": 3,
   "metadata": {},
   "outputs": [],
   "source": [
    "nlp = StanfordCoreNLP(\"../stanford-corenlp-4.2.0\", quiet=False)\n",
    "annotated = nlp.annotate(starwars_text, properties={'annotators': 'coref', 'pipelineLanguage': 'en', 'coref.algorithm' : 'statistical'})\n",
    "result = json.loads(annotated)\n",
    "corefs = result['corefs']"
   ]
  },
  {
   "cell_type": "code",
   "execution_count": 4,
   "metadata": {},
   "outputs": [
    {
     "data": {
      "text/plain": [
       "{'7': [{'id': 1,\n",
       "   'text': 'Darth Vader , also known by his birth name Anakin Skywalker',\n",
       "   'type': 'PROPER',\n",
       "   'number': 'SINGULAR',\n",
       "   'gender': 'MALE',\n",
       "   'animacy': 'ANIMATE',\n",
       "   'startIndex': 1,\n",
       "   'endIndex': 12,\n",
       "   'headIndex': 2,\n",
       "   'sentNum': 1,\n",
       "   'position': [1, 2],\n",
       "   'isRepresentativeMention': True},\n",
       "  {'id': 2,\n",
       "   'text': 'his',\n",
       "   'type': 'PRONOMINAL',\n",
       "   'number': 'SINGULAR',\n",
       "   'gender': 'MALE',\n",
       "   'animacy': 'ANIMATE',\n",
       "   'startIndex': 7,\n",
       "   'endIndex': 8,\n",
       "   'headIndex': 7,\n",
       "   'sentNum': 1,\n",
       "   'position': [1, 3],\n",
       "   'isRepresentativeMention': False},\n",
       "  {'id': 0,\n",
       "   'text': 'Anakin Skywalker',\n",
       "   'type': 'PROPER',\n",
       "   'number': 'SINGULAR',\n",
       "   'gender': 'MALE',\n",
       "   'animacy': 'ANIMATE',\n",
       "   'startIndex': 10,\n",
       "   'endIndex': 12,\n",
       "   'headIndex': 11,\n",
       "   'sentNum': 1,\n",
       "   'position': [1, 1],\n",
       "   'isRepresentativeMention': False},\n",
       "  {'id': 6,\n",
       "   'text': 'Darth Vader',\n",
       "   'type': 'PROPER',\n",
       "   'number': 'SINGULAR',\n",
       "   'gender': 'MALE',\n",
       "   'animacy': 'ANIMATE',\n",
       "   'startIndex': 1,\n",
       "   'endIndex': 3,\n",
       "   'headIndex': 2,\n",
       "   'sentNum': 2,\n",
       "   'position': [2, 1],\n",
       "   'isRepresentativeMention': False},\n",
       "  {'id': 14,\n",
       "   'text': 'his',\n",
       "   'type': 'PRONOMINAL',\n",
       "   'number': 'SINGULAR',\n",
       "   'gender': 'MALE',\n",
       "   'animacy': 'ANIMATE',\n",
       "   'startIndex': 20,\n",
       "   'endIndex': 21,\n",
       "   'headIndex': 20,\n",
       "   'sentNum': 2,\n",
       "   'position': [2, 9],\n",
       "   'isRepresentativeMention': False},\n",
       "  {'id': 7,\n",
       "   'text': 'Anakin Skywalker',\n",
       "   'type': 'PROPER',\n",
       "   'number': 'SINGULAR',\n",
       "   'gender': 'MALE',\n",
       "   'animacy': 'ANIMATE',\n",
       "   'startIndex': 23,\n",
       "   'endIndex': 25,\n",
       "   'headIndex': 24,\n",
       "   'sentNum': 2,\n",
       "   'position': [2, 2],\n",
       "   'isRepresentativeMention': False},\n",
       "  {'id': 17,\n",
       "   'text': 'his',\n",
       "   'type': 'PRONOMINAL',\n",
       "   'number': 'SINGULAR',\n",
       "   'gender': 'MALE',\n",
       "   'animacy': 'ANIMATE',\n",
       "   'startIndex': 29,\n",
       "   'endIndex': 30,\n",
       "   'headIndex': 29,\n",
       "   'sentNum': 2,\n",
       "   'position': [2, 12],\n",
       "   'isRepresentativeMention': False},\n",
       "  {'id': 21,\n",
       "   'text': 'The character',\n",
       "   'type': 'NOMINAL',\n",
       "   'number': 'SINGULAR',\n",
       "   'gender': 'UNKNOWN',\n",
       "   'animacy': 'ANIMATE',\n",
       "   'startIndex': 1,\n",
       "   'endIndex': 3,\n",
       "   'headIndex': 2,\n",
       "   'sentNum': 3,\n",
       "   'position': [3, 3],\n",
       "   'isRepresentativeMention': False},\n",
       "  {'id': 25,\n",
       "   'text': 'His',\n",
       "   'type': 'PRONOMINAL',\n",
       "   'number': 'SINGULAR',\n",
       "   'gender': 'MALE',\n",
       "   'animacy': 'ANIMATE',\n",
       "   'startIndex': 1,\n",
       "   'endIndex': 2,\n",
       "   'headIndex': 1,\n",
       "   'sentNum': 4,\n",
       "   'position': [4, 4],\n",
       "   'isRepresentativeMention': False},\n",
       "  {'id': 30,\n",
       "   'text': 'and his character',\n",
       "   'type': 'NOMINAL',\n",
       "   'number': 'SINGULAR',\n",
       "   'gender': 'UNKNOWN',\n",
       "   'animacy': 'ANIMATE',\n",
       "   'startIndex': 17,\n",
       "   'endIndex': 20,\n",
       "   'headIndex': 19,\n",
       "   'sentNum': 4,\n",
       "   'position': [4, 9],\n",
       "   'isRepresentativeMention': False},\n",
       "  {'id': 29,\n",
       "   'text': 'his',\n",
       "   'type': 'PRONOMINAL',\n",
       "   'number': 'SINGULAR',\n",
       "   'gender': 'MALE',\n",
       "   'animacy': 'ANIMATE',\n",
       "   'startIndex': 18,\n",
       "   'endIndex': 19,\n",
       "   'headIndex': 18,\n",
       "   'sentNum': 4,\n",
       "   'position': [4, 8],\n",
       "   'isRepresentativeMention': False},\n",
       "  {'id': 39,\n",
       "   'text': 'He',\n",
       "   'type': 'PRONOMINAL',\n",
       "   'number': 'SINGULAR',\n",
       "   'gender': 'MALE',\n",
       "   'animacy': 'ANIMATE',\n",
       "   'startIndex': 1,\n",
       "   'endIndex': 2,\n",
       "   'headIndex': 1,\n",
       "   'sentNum': 5,\n",
       "   'position': [5, 7],\n",
       "   'isRepresentativeMention': False},\n",
       "  {'id': 45,\n",
       "   'text': 'he',\n",
       "   'type': 'PRONOMINAL',\n",
       "   'number': 'SINGULAR',\n",
       "   'gender': 'MALE',\n",
       "   'animacy': 'ANIMATE',\n",
       "   'startIndex': 14,\n",
       "   'endIndex': 15,\n",
       "   'headIndex': 14,\n",
       "   'sentNum': 6,\n",
       "   'position': [6, 4],\n",
       "   'isRepresentativeMention': False},\n",
       "  {'id': 50,\n",
       "   'text': 'his',\n",
       "   'type': 'PRONOMINAL',\n",
       "   'number': 'SINGULAR',\n",
       "   'gender': 'MALE',\n",
       "   'animacy': 'ANIMATE',\n",
       "   'startIndex': 34,\n",
       "   'endIndex': 35,\n",
       "   'headIndex': 34,\n",
       "   'sentNum': 6,\n",
       "   'position': [6, 9],\n",
       "   'isRepresentativeMention': False}],\n",
       " '9': [{'id': 10,\n",
       "   'text': 'the original film trilogy',\n",
       "   'type': 'NOMINAL',\n",
       "   'number': 'SINGULAR',\n",
       "   'gender': 'NEUTRAL',\n",
       "   'animacy': 'INANIMATE',\n",
       "   'startIndex': 5,\n",
       "   'endIndex': 9,\n",
       "   'headIndex': 8,\n",
       "   'sentNum': 2,\n",
       "   'position': [2, 5],\n",
       "   'isRepresentativeMention': True},\n",
       "  {'id': 9,\n",
       "   'text': 'the prequel trilogy',\n",
       "   'type': 'NOMINAL',\n",
       "   'number': 'SINGULAR',\n",
       "   'gender': 'NEUTRAL',\n",
       "   'animacy': 'INANIMATE',\n",
       "   'startIndex': 37,\n",
       "   'endIndex': 40,\n",
       "   'headIndex': 39,\n",
       "   'sentNum': 2,\n",
       "   'position': [2, 4],\n",
       "   'isRepresentativeMention': False}],\n",
       " '47': [{'id': 44,\n",
       "   'text': 'the Force',\n",
       "   'type': 'PROPER',\n",
       "   'number': 'SINGULAR',\n",
       "   'gender': 'NEUTRAL',\n",
       "   'animacy': 'INANIMATE',\n",
       "   'startIndex': 11,\n",
       "   'endIndex': 13,\n",
       "   'headIndex': 12,\n",
       "   'sentNum': 6,\n",
       "   'position': [6, 3],\n",
       "   'isRepresentativeMention': True},\n",
       "  {'id': 47,\n",
       "   'text': 'the Force',\n",
       "   'type': 'PROPER',\n",
       "   'number': 'SINGULAR',\n",
       "   'gender': 'NEUTRAL',\n",
       "   'animacy': 'INANIMATE',\n",
       "   'startIndex': 21,\n",
       "   'endIndex': 23,\n",
       "   'headIndex': 22,\n",
       "   'sentNum': 6,\n",
       "   'position': [6, 6],\n",
       "   'isRepresentativeMention': False}]}"
      ]
     },
     "execution_count": 4,
     "metadata": {},
     "output_type": "execute_result"
    }
   ],
   "source": [
    "corefs"
   ]
  },
  {
   "cell_type": "code",
   "execution_count": 5,
   "metadata": {},
   "outputs": [],
   "source": [
    "import sys\n",
    "sys.path.append('../')\n",
    "from text_to_graph import process_NER, process_corefs, process_dependency_matching"
   ]
  },
  {
   "cell_type": "code",
   "execution_count": 6,
   "metadata": {},
   "outputs": [
    {
     "name": "stdout",
     "output_type": "stream",
     "text": [
      "***** Completed NER *****\n",
      "Coreferences found:  3\n",
      "***** Completed Coreference Resolution *****\n"
     ]
    }
   ],
   "source": [
    "# Perform Named Entity Recognition with spaCy\n",
    "ner_dict = process_NER(text=starwars_text)\n",
    "print('***** Completed NER *****')\n",
    "    \n",
    "# Generate Coreferences and Dependencies with CoreNLP\n",
    "corefs = process_corefs(text=starwars_text, corenlp_path='../stanford-corenlp-4.2.0')\n",
    "print(\"Coreferences found: \", len(corefs))\n",
    "\n",
    "# Perform Replacement with Named Entities and Dependencies\n",
    "resolved_text = process_dependency_matching(text=starwars_text, ner_dict=ner_dict, corefs=corefs)\n",
    "print('***** Completed Coreference Resolution *****')"
   ]
  },
  {
   "cell_type": "code",
   "execution_count": 7,
   "metadata": {},
   "outputs": [
    {
     "data": {
      "text/plain": [
       "'Anakin Skywalker , is a fictional character in the Star Wars franchise. Anakin Skywalker appears in the original film trilogy as a pivotal antagonist whose actions drive the plot, while his past as Anakin Skywalker and the story of his corruption are central to the narrative of the prequel trilogy. Anakin Skywalker was created by George Lucas and has been portrayed by numerous actors. Anakin Skywalker appearances span the first six Star Wars films, as well as Rogue One, and his character is heavily referenced in Star Wars: The Force Awakens. Anakin Skywalker is also an important character in the Star Wars expanded universe of television series, video games, novels, literature and comic books. Originally a Jedi who was prophesied to bring balance to the Force, Anakin Skywalker falls to the dark side of the Force and serves the evil Galactic Empire at the right hand of his Sith master, Emperor Palpatine( also known as Darth Sidious) . '"
      ]
     },
     "execution_count": 7,
     "metadata": {},
     "output_type": "execute_result"
    }
   ],
   "source": [
    "resolved_text"
   ]
  },
  {
   "cell_type": "markdown",
   "metadata": {},
   "source": [
    "# Neural Coref"
   ]
  },
  {
   "cell_type": "code",
   "execution_count": 8,
   "metadata": {},
   "outputs": [],
   "source": [
    "import neuralcoref"
   ]
  },
  {
   "cell_type": "code",
   "execution_count": 9,
   "metadata": {},
   "outputs": [
    {
     "name": "stdout",
     "output_type": "stream",
     "text": [
      "True\n",
      "[My sister: [My sister, She], a dog: [a dog, him]]\n",
      "My sister has a dog. My sister loves a dog.\n"
     ]
    }
   ],
   "source": [
    "nlp = spacy.load('en')\n",
    "neuralcoref.add_to_pipe(nlp)\n",
    "\n",
    "doc = nlp('My sister has a dog. She loves him.')\n",
    "\n",
    "print(doc._.has_coref)\n",
    "print(doc._.coref_clusters)\n",
    "print(doc._.coref_resolved)"
   ]
  },
  {
   "cell_type": "markdown",
   "metadata": {},
   "source": [
    "### Large Text Example"
   ]
  },
  {
   "cell_type": "code",
   "execution_count": 10,
   "metadata": {},
   "outputs": [
    {
     "data": {
      "text/plain": [
       "True"
      ]
     },
     "execution_count": 10,
     "metadata": {},
     "output_type": "execute_result"
    }
   ],
   "source": [
    "doc = nlp(starwars_text)\n",
    "doc._.has_coref"
   ]
  },
  {
   "cell_type": "code",
   "execution_count": 11,
   "metadata": {},
   "outputs": [
    {
     "data": {
      "text/plain": [
       "[Darth Vader: [Darth Vader, his],\n",
       " Darth Vader: [Darth Vader, his, his],\n",
       " the original film trilogy: [the original film trilogy, the prequel trilogy],\n",
       " The character: [The character, His, his, his character, He, he, his],\n",
       " the Force: [the Force, the Force]]"
      ]
     },
     "execution_count": 11,
     "metadata": {},
     "output_type": "execute_result"
    }
   ],
   "source": [
    "doc._.coref_clusters"
   ]
  },
  {
   "cell_type": "code",
   "execution_count": 12,
   "metadata": {},
   "outputs": [
    {
     "data": {
      "text/plain": [
       "'Darth Vader, also known by Darth Vader birth name Anakin Skywalker, is a fictional character in the Star Wars franchise. Darth Vader appears in the original film trilogy as a pivotal antagonist whose actions drive the plot, while Darth Vader past as Anakin Skywalker and the story of Darth Vader corruption are central to the narrative of the original film trilogy. The character was created by George Lucas and has been portrayed by numerous actors. The character appearances span the first six Star Wars films, as well as Rogue One, and The character is heavily referenced in Star Wars: The Force Awakens. The character is also an important character in the Star Wars expanded universe of television series, video games, novels, literature and comic books. Originally a Jedi who was prophesied to bring balance to the Force, The character falls to the dark side of the Force and serves the evil Galactic Empire at the right hand of The character Sith master, Emperor Palpatine (also known as Darth Sidious).'"
      ]
     },
     "execution_count": 12,
     "metadata": {},
     "output_type": "execute_result"
    }
   ],
   "source": [
    "doc._.coref_resolved"
   ]
  }
 ],
 "metadata": {
  "kernelspec": {
   "display_name": "Python 3",
   "language": "python",
   "name": "python3"
  },
  "language_info": {
   "codemirror_mode": {
    "name": "ipython",
    "version": 3
   },
   "file_extension": ".py",
   "mimetype": "text/x-python",
   "name": "python",
   "nbconvert_exporter": "python",
   "pygments_lexer": "ipython3",
   "version": "3.7.5"
  }
 },
 "nbformat": 4,
 "nbformat_minor": 4
}
