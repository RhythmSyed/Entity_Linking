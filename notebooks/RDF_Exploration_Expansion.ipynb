{
 "cells": [
  {
   "cell_type": "code",
   "execution_count": 4,
   "metadata": {},
   "outputs": [
    {
     "data": {
      "text/plain": [
       "<Graph identifier=Na6196482563b4cfda35c2ea512b1ea9b (<class 'rdflib.graph.Graph'>)>"
      ]
     },
     "execution_count": 4,
     "metadata": {},
     "output_type": "execute_result"
    }
   ],
   "source": [
    "import rdflib\n",
    "graph = rdflib.Graph()\n",
    "graph.parse('./data/starwars.ttl', format='turtle')"
   ]
  },
  {
   "cell_type": "code",
   "execution_count": 11,
   "metadata": {},
   "outputs": [
    {
     "data": {
      "text/plain": [
       "[(rdflib.term.URIRef('https://swapi.co/resource/human/18'),\n",
       "  rdflib.term.URIRef('https://swapi.co/vocabulary/height'),\n",
       "  rdflib.term.Literal('170.0', datatype=rdflib.term.URIRef('http://www.w3.org/2001/XMLSchema#float'))),\n",
       " (rdflib.term.URIRef('https://swapi.co/resource/starship/21'),\n",
       "  rdflib.term.URIRef('https://swapi.co/vocabulary/desc'),\n",
       "  rdflib.term.Literal('None', datatype=rdflib.term.URIRef('http://www.w3.org/2001/XMLSchema#string'))),\n",
       " (rdflib.term.URIRef('https://swapi.co/resource/vehicle/26'),\n",
       "  rdflib.term.URIRef('https://swapi.co/vocabulary/maxAtmospheringSpeed'),\n",
       "  rdflib.term.Literal('1250', datatype=rdflib.term.URIRef('http://www.w3.org/2001/XMLSchema#integer'))),\n",
       " (rdflib.term.URIRef('https://swapi.co/resource/planet/54'),\n",
       "  rdflib.term.URIRef('http://www.w3.org/2000/01/rdf-schema#label'),\n",
       "  rdflib.term.Literal('Zolan', datatype=rdflib.term.URIRef('http://www.w3.org/2001/XMLSchema#string'))),\n",
       " (rdflib.term.URIRef('https://swapi.co/resource/starship/15'),\n",
       "  rdflib.term.URIRef('https://swapi.co/vocabulary/model'),\n",
       "  rdflib.term.Literal('Executor-class star dreadnought', datatype=rdflib.term.URIRef('http://www.w3.org/2001/XMLSchema#string'))),\n",
       " (rdflib.term.URIRef('https://swapi.co/resource/film/1'),\n",
       "  rdflib.term.URIRef('https://swapi.co/vocabulary/character'),\n",
       "  rdflib.term.URIRef('https://swapi.co/resource/droid/2')),\n",
       " (rdflib.term.URIRef('https://swapi.co/resource/planet/49'),\n",
       "  rdflib.term.URIRef('https://swapi.co/vocabulary/desc'),\n",
       "  rdflib.term.Literal('None', datatype=rdflib.term.URIRef('http://www.w3.org/2001/XMLSchema#string'))),\n",
       " (rdflib.term.URIRef('https://swapi.co/resource/vehicle/50'),\n",
       "  rdflib.term.URIRef('https://swapi.co/vocabulary/desc'),\n",
       "  rdflib.term.Literal('None', datatype=rdflib.term.URIRef('http://www.w3.org/2001/XMLSchema#string'))),\n",
       " (rdflib.term.URIRef('https://swapi.co/resource/gungan/36'),\n",
       "  rdflib.term.URIRef('http://www.w3.org/1999/02/22-rdf-syntax-ns#type'),\n",
       "  rdflib.term.URIRef('https://swapi.co/vocabulary/Character')),\n",
       " (rdflib.term.URIRef('https://swapi.co/resource/film/2'),\n",
       "  rdflib.term.URIRef('https://swapi.co/vocabulary/starship'),\n",
       "  rdflib.term.URIRef('https://swapi.co/resource/starship/21'))]"
      ]
     },
     "execution_count": 11,
     "metadata": {},
     "output_type": "execute_result"
    }
   ],
   "source": [
    "query_str = \"\"\"\n",
    "    SELECT ?s ?p ?o\n",
    "    WHERE {   \n",
    "        ?s ?p ?o.\n",
    "    }\n",
    "    LIMIT 10\n",
    "\"\"\"\n",
    "res = graph.query(query_str)\n",
    "list(res)"
   ]
  },
  {
   "cell_type": "code",
   "execution_count": null,
   "metadata": {},
   "outputs": [],
   "source": []
  }
 ],
 "metadata": {
  "kernelspec": {
   "display_name": "Python 3",
   "language": "python",
   "name": "python3"
  },
  "language_info": {
   "codemirror_mode": {
    "name": "ipython",
    "version": 3
   },
   "file_extension": ".py",
   "mimetype": "text/x-python",
   "name": "python",
   "nbconvert_exporter": "python",
   "pygments_lexer": "ipython3",
   "version": "3.7.5"
  }
 },
 "nbformat": 4,
 "nbformat_minor": 4
}
