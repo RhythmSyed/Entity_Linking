{
 "cells": [
  {
   "cell_type": "markdown",
   "metadata": {},
   "source": [
    "# Relation Extraction"
   ]
  },
  {
   "cell_type": "markdown",
   "metadata": {},
   "source": [
    "## MinIE: Open Information Extraction system"
   ]
  },
  {
   "cell_type": "markdown",
   "metadata": {},
   "source": [
    "##### upgraded corenlp version, added dependencies to pom.xml\n",
    "> https://github.com/uma-pi1/minie, https://www.aclweb.org/anthology/D17-1278/"
   ]
  },
  {
   "cell_type": "code",
   "execution_count": 1,
   "metadata": {},
   "outputs": [],
   "source": [
    "import os\n",
    "os.environ['CLASSPATH'] = '../../miniepy/minie-0.0.1-SNAPSHOT.jar'\n",
    "from miniepy import *\n",
    "\n",
    "minie = MinIE()"
   ]
  },
  {
   "cell_type": "code",
   "execution_count": 2,
   "metadata": {},
   "outputs": [],
   "source": [
    "text = \"The Joker believes that the hero Batman was not actually born in foggy Gotham City.\"\n",
    "triples = [p.triple for p in minie.get_propositions(text)]"
   ]
  },
  {
   "cell_type": "code",
   "execution_count": 3,
   "metadata": {},
   "outputs": [
    {
     "name": "stdout",
     "output_type": "stream",
     "text": [
      "Original text:\n",
      "\tThe Joker believes that the hero Batman was not actually born in foggy Gotham City.\n",
      "\n",
      "Extracted triples:\n",
      "\t('Batman', 'is', 'hero')\n",
      "\t('Batman', 'was born in', 'foggy Gotham City')\n"
     ]
    }
   ],
   "source": [
    "print(\"Original text:\")\n",
    "print('\\t{}\\n'.format(text))\n",
    "\n",
    "print(\"Extracted triples:\")\n",
    "for t in triples:\n",
    "    print(\"\\t{}\".format(t))"
   ]
  },
  {
   "cell_type": "markdown",
   "metadata": {},
   "source": [
    "### Larger Text"
   ]
  },
  {
   "cell_type": "code",
   "execution_count": 4,
   "metadata": {},
   "outputs": [
    {
     "name": "stdout",
     "output_type": "stream",
     "text": [
      "Original sentence:\n",
      "\tDarth Vader, also known by his birth name Anakin Skywalker, is a fictional character in the Star Wars franchise. Darth Vader appears in the original film trilogy as a pivotal antagonist whose actions drive the plot, while his past as Anakin Skywalker and the story of his corruption are central to the narrative of the prequel trilogy. The character was created by George Lucas and has been portrayed by numerous actors. His appearances span the first six Star Wars films, as well as Rogue One, and his character is heavily referenced in Star Wars: The Force Awakens. He is also an important character in the Star Wars expanded universe of television series, video games, novels, literature and comic books. Originally a Jedi who was prophesied to bring balance to the Force, he falls to the dark side of the Force and serves the evil Galactic Empire at the right hand of his Sith master, Emperor Palpatine (also known as Darth Sidious).\n",
      "\n",
      "Extracted triples:\n",
      "\t('Palpatine', 'is', 'Emperor')\n",
      "\t('Jedi', 'was prophesied to bring', 'balance to Force')\n",
      "\t('serves evil Galactic Empire at right hand of Sith master', 'was prophesied to bring', 'balance to Force')\n",
      "\t('he', 'falls to dark side of Force', 'Jedi')\n",
      "\t('he', 'falls to dark side of Force', 'serves evil Galactic Empire at right hand of Sith master')\n",
      "\t('he', 'falls', 'Jedi')\n",
      "\t('he', 'falls', 'serves evil Galactic Empire at right hand of Sith master')\n",
      "\t('his', 'has', 'Sith master')\n"
     ]
    }
   ],
   "source": [
    "starwars_text = 'Anakin Skywalker , is a fictional character in the Star Wars franchise. Anakin Skywalker appears in the original film trilogy as a pivotal antagonist whose actions drive the plot, while Anakin Skywalker past as Anakin Skywalker and the story of Anakin Skywalker corruption are central to the narrative of the original film trilogy. Anakin Skywalker was created by George Lucas and has been portrayed by numerous actors. Anakin Skywalker appearances span the first six Star Wars films, as well as Rogue One, and Anakin Skywalker character is heavily referenced in Star Wars: The Force Awakens. Anakin Skywalker is also an important character in the Star Wars expanded universe of television series, video games, novels, literature and comic books. Originally a Jedi who was prophesied to bring balance to the Force, Anakin Skywalker falls to the dark side of the Force and serves the evil Galactic Empire at the right hand of Anakin Skywalker Sith master, Emperor Palpatine( also known as Darth Sidious) . '\n",
    "    \n",
    "triples = [p.triple for p in minie.get_propositions(starwars_text)]\n",
    "\n",
    "print(\"Original text:\")\n",
    "print('\\t{}\\n'.format(starwars_text))\n",
    "\n",
    "print(\"Extracted triples:\")\n",
    "for t in triples:\n",
    "    print(\"\\t{}\".format(t))"
   ]
  },
  {
   "cell_type": "markdown",
   "metadata": {},
   "source": [
    "# Stanford OpenIE"
   ]
  },
  {
   "cell_type": "markdown",
   "metadata": {},
   "source": [
    "> https://nlp.stanford.edu/software/openie.html"
   ]
  },
  {
   "cell_type": "code",
   "execution_count": 7,
   "metadata": {},
   "outputs": [
    {
     "name": "stdout",
     "output_type": "stream",
     "text": [
      "Original text:\n",
      "\tDarth Vader, also known by his birth name Anakin Skywalker, is a fictional character in the Star Wars franchise. Darth Vader appears in the original film trilogy as a pivotal antagonist whose actions drive the plot, while his past as Anakin Skywalker and the story of his corruption are central to the narrative of the prequel trilogy. The character was created by George Lucas and has been portrayed by numerous actors. His appearances span the first six Star Wars films, as well as Rogue One, and his character is heavily referenced in Star Wars: The Force Awakens. He is also an important character in the Star Wars expanded universe of television series, video games, novels, literature and comic books. Originally a Jedi who was prophesied to bring balance to the Force, he falls to the dark side of the Force and serves the evil Galactic Empire at the right hand of his Sith master, Emperor Palpatine (also known as Darth Sidious).\n",
      "\n",
      "Starting server with command: java -Xmx8G -cp /Users/rhythmsyed/stanfordnlp_resources/stanford-corenlp-full-2018-10-05/* edu.stanford.nlp.pipeline.StanfordCoreNLPServer -port 9000 -timeout 60000 -threads 5 -maxCharLength 100000 -quiet True -serverProperties corenlp_server-bb977ef85fd74e4d.props -preload openie\n",
      "Extracted triples:\n",
      "\t{'subject': 'Darth Vader', 'relation': 'also known by', 'object': 'his birth name Anakin Skywalker'}\n",
      "\t{'subject': 'Darth Vader', 'relation': 'is', 'object': 'fictional character'}\n",
      "\t{'subject': 'fictional character', 'relation': 'is in', 'object': 'Star Wars franchise'}\n",
      "\t{'subject': 'Darth Vader', 'relation': 'is fictional character in', 'object': 'Star Wars franchise'}\n",
      "\t{'subject': 'Darth Vader', 'relation': 'known by', 'object': 'his birth name Anakin Skywalker'}\n",
      "\t{'subject': 'Darth Vader', 'relation': 'appears as', 'object': 'pivotal antagonist'}\n",
      "\t{'subject': 'Darth Vader', 'relation': 'appears as', 'object': 'antagonist'}\n",
      "\t{'subject': 'Darth Vader', 'relation': 'appears in', 'object': 'film trilogy'}\n",
      "\t{'subject': 'Darth Vader', 'relation': 'appears', 'object': 'central to narrative of prequel trilogy'}\n",
      "\t{'subject': 'his past', 'relation': 'are central to', 'object': 'narrative of prequel trilogy'}\n",
      "\t{'subject': 'Darth Vader', 'relation': 'appears', 'object': 'central to narrative'}\n",
      "\t{'subject': 'Darth Vader', 'relation': 'appears', 'object': 'central'}\n",
      "\t{'subject': 'his past', 'relation': 'are central to', 'object': 'narrative'}\n",
      "\t{'subject': 'actions', 'relation': 'drive', 'object': 'plot'}\n",
      "\t{'subject': 'his past', 'relation': 'are', 'object': 'central'}\n",
      "\t{'subject': 'Darth Vader', 'relation': 'appears in', 'object': 'original film trilogy'}\n",
      "\t{'subject': 'character', 'relation': 'been portrayed by', 'object': 'actors'}\n",
      "\t{'subject': 'character', 'relation': 'was', 'object': 'created'}\n",
      "\t{'subject': 'character', 'relation': 'been', 'object': 'portrayed'}\n",
      "\t{'subject': 'character', 'relation': 'was created by', 'object': 'George Lucas'}\n",
      "\t{'subject': 'character', 'relation': 'been portrayed by', 'object': 'numerous actors'}\n",
      "\t{'subject': 'his character', 'relation': 'is heavily referenced in', 'object': 'Star Wars'}\n",
      "\t{'subject': 'His appearances', 'relation': 'span', 'object': 'six Star Wars films'}\n",
      "\t{'subject': 'His appearances', 'relation': 'span', 'object': 'Rogue One'}\n",
      "\t{'subject': 'his character', 'relation': 'is', 'object': 'heavily referenced'}\n",
      "\t{'subject': 'his character', 'relation': 'is referenced in', 'object': 'Star Wars'}\n",
      "\t{'subject': 'His appearances', 'relation': 'span', 'object': 'first six Star Wars films'}\n",
      "\t{'subject': 'his character', 'relation': 'is', 'object': 'referenced'}\n",
      "\t{'subject': 'He', 'relation': 'is also character in', 'object': 'Star Wars'}\n",
      "\t{'subject': 'important character', 'relation': 'is in', 'object': 'Star Wars'}\n",
      "\t{'subject': 'He', 'relation': 'is', 'object': 'important'}\n",
      "\t{'subject': 'He', 'relation': 'is', 'object': 'also character'}\n",
      "\t{'subject': 'He', 'relation': 'is', 'object': 'character'}\n",
      "\t{'subject': 'He', 'relation': 'is', 'object': 'also important character'}\n",
      "\t{'subject': 'He', 'relation': 'is character in', 'object': 'Star Wars'}\n",
      "\t{'subject': 'He', 'relation': 'is', 'object': 'important character'}\n",
      "\t{'subject': 'he', 'relation': 'falls to', 'object': 'side of Force'}\n",
      "\t{'subject': 'he', 'relation': 'serves', 'object': 'evil Galactic Empire'}\n",
      "\t{'subject': 'he', 'relation': 'serves Galactic Empire at', 'object': 'hand'}\n",
      "\t{'subject': 'he', 'relation': 'falls to', 'object': 'dark side of Force'}\n",
      "\t{'subject': 'he', 'relation': 'serves Galactic Empire at', 'object': 'right hand'}\n",
      "\t{'subject': 'he', 'relation': 'serves', 'object': 'Galactic Empire'}\n",
      "\t{'subject': 'he', 'relation': 'falls to', 'object': 'dark side'}\n",
      "\t{'subject': 'he', 'relation': 'serves Galactic Empire at', 'object': 'hand of his Sith master'}\n",
      "\t{'subject': 'he', 'relation': 'falls to', 'object': 'side'}\n",
      "\t{'subject': 'he', 'relation': 'serves Galactic Empire at', 'object': 'right hand of his Sith master'}\n",
      "\t{'subject': 'his', 'relation': 'master', 'object': 'Emperor Palpatine'}\n"
     ]
    }
   ],
   "source": [
    "from openie import StanfordOpenIE\n",
    "\n",
    "text = 'Darth Vader, also known by his birth name Anakin Skywalker, is a fictional character in the Star Wars franchise. Darth Vader appears in the original film trilogy as a pivotal antagonist whose actions drive the plot, while his past as Anakin Skywalker and the story of his corruption are central to the narrative of the prequel trilogy. The character was created by George Lucas and has been portrayed by numerous actors. His appearances span the first six Star Wars films, as well as Rogue One, and his character is heavily referenced in Star Wars: The Force Awakens. He is also an important character in the Star Wars expanded universe of television series, video games, novels, literature and comic books. Originally a Jedi who was prophesied to bring balance to the Force, he falls to the dark side of the Force and serves the evil Galactic Empire at the right hand of his Sith master, Emperor Palpatine (also known as Darth Sidious).'\n",
    "print(\"Original text:\")\n",
    "print('\\t{}\\n'.format(text))\n",
    "\n",
    "triples = []\n",
    "with StanfordOpenIE() as client:\n",
    "    for triple in client.annotate(text):\n",
    "        triples.append(triple)\n",
    "\n",
    "print(\"Extracted triples:\")\n",
    "for t in triples:\n",
    "    print(\"\\t{}\".format(t))"
   ]
  },
  {
   "cell_type": "code",
   "execution_count": null,
   "metadata": {},
   "outputs": [],
   "source": []
  }
 ],
 "metadata": {
  "kernelspec": {
   "display_name": "Python 3",
   "language": "python",
   "name": "python3"
  },
  "language_info": {
   "codemirror_mode": {
    "name": "ipython",
    "version": 3
   },
   "file_extension": ".py",
   "mimetype": "text/x-python",
   "name": "python",
   "nbconvert_exporter": "python",
   "pygments_lexer": "ipython3",
   "version": "3.7.5"
  }
 },
 "nbformat": 4,
 "nbformat_minor": 4
}
