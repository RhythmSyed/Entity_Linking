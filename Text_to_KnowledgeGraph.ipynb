{
 "cells": [
  {
   "cell_type": "code",
   "execution_count": 1,
   "metadata": {},
   "outputs": [],
   "source": [
    "import spacy\n",
    "import pandas as pd\n",
    "from spacy import displacy\n",
    "import en_core_web_lg\n",
    "from pathlib import Path"
   ]
  },
  {
   "cell_type": "code",
   "execution_count": 2,
   "metadata": {},
   "outputs": [],
   "source": [
    "#! python -m spacy download en_trf_bertbaseuncased_lg"
   ]
  },
  {
   "cell_type": "code",
   "execution_count": 3,
   "metadata": {},
   "outputs": [],
   "source": [
    "nlp = en_core_web_lg.load()"
   ]
  },
  {
   "cell_type": "markdown",
   "metadata": {},
   "source": [
    "# Parsing & Part-of-Speech Tags"
   ]
  },
  {
   "cell_type": "markdown",
   "metadata": {},
   "source": [
    "<b>Text</b>: The original word text.<br>\n",
    "<b>Lemma</b>: The base form of the word.<br>\n",
    "<b>POS</b>: The simple UPOS part-of-speech tag.<br>\n",
    "<b>Tag</b>: The detailed part-of-speech tag.<br>\n",
    "<b>Dep</b>: Syntactic dependency, i.e. the relation between tokens.<br>\n",
    "<b>Shape</b>: The word shape – capitalization, punctuation, digits.<br>\n",
    "<b>is_alpha</b>: Is the token an alpha character?<br>\n",
    "<b>is_stop</b>: Is the token part of a stop list, i.e. the most common words of the language?<br>"
   ]
  },
  {
   "cell_type": "code",
   "execution_count": 4,
   "metadata": {},
   "outputs": [
    {
     "data": {
      "text/html": [
       "<div>\n",
       "<style scoped>\n",
       "    .dataframe tbody tr th:only-of-type {\n",
       "        vertical-align: middle;\n",
       "    }\n",
       "\n",
       "    .dataframe tbody tr th {\n",
       "        vertical-align: top;\n",
       "    }\n",
       "\n",
       "    .dataframe thead th {\n",
       "        text-align: right;\n",
       "    }\n",
       "</style>\n",
       "<table border=\"1\" class=\"dataframe\">\n",
       "  <thead>\n",
       "    <tr style=\"text-align: right;\">\n",
       "      <th></th>\n",
       "      <th>Text</th>\n",
       "      <th>Lemma</th>\n",
       "      <th>POS</th>\n",
       "      <th>Tag</th>\n",
       "      <th>Dep</th>\n",
       "      <th>Shape</th>\n",
       "      <th>is_alpha</th>\n",
       "      <th>is_stop</th>\n",
       "    </tr>\n",
       "  </thead>\n",
       "  <tbody>\n",
       "    <tr>\n",
       "      <th>0</th>\n",
       "      <td>Darth</td>\n",
       "      <td>Darth</td>\n",
       "      <td>PROPN</td>\n",
       "      <td>NNP</td>\n",
       "      <td>compound</td>\n",
       "      <td>Xxxxx</td>\n",
       "      <td>True</td>\n",
       "      <td>False</td>\n",
       "    </tr>\n",
       "    <tr>\n",
       "      <th>1</th>\n",
       "      <td>Vader</td>\n",
       "      <td>Vader</td>\n",
       "      <td>PROPN</td>\n",
       "      <td>NNP</td>\n",
       "      <td>nsubjpass</td>\n",
       "      <td>Xxxxx</td>\n",
       "      <td>True</td>\n",
       "      <td>False</td>\n",
       "    </tr>\n",
       "    <tr>\n",
       "      <th>2</th>\n",
       "      <td>is</td>\n",
       "      <td>be</td>\n",
       "      <td>AUX</td>\n",
       "      <td>VBZ</td>\n",
       "      <td>auxpass</td>\n",
       "      <td>xx</td>\n",
       "      <td>True</td>\n",
       "      <td>True</td>\n",
       "    </tr>\n",
       "    <tr>\n",
       "      <th>3</th>\n",
       "      <td>also</td>\n",
       "      <td>also</td>\n",
       "      <td>ADV</td>\n",
       "      <td>RB</td>\n",
       "      <td>advmod</td>\n",
       "      <td>xxxx</td>\n",
       "      <td>True</td>\n",
       "      <td>True</td>\n",
       "    </tr>\n",
       "    <tr>\n",
       "      <th>4</th>\n",
       "      <td>known</td>\n",
       "      <td>know</td>\n",
       "      <td>VERB</td>\n",
       "      <td>VBN</td>\n",
       "      <td>ROOT</td>\n",
       "      <td>xxxx</td>\n",
       "      <td>True</td>\n",
       "      <td>False</td>\n",
       "    </tr>\n",
       "    <tr>\n",
       "      <th>5</th>\n",
       "      <td>by</td>\n",
       "      <td>by</td>\n",
       "      <td>ADP</td>\n",
       "      <td>IN</td>\n",
       "      <td>prep</td>\n",
       "      <td>xx</td>\n",
       "      <td>True</td>\n",
       "      <td>True</td>\n",
       "    </tr>\n",
       "    <tr>\n",
       "      <th>6</th>\n",
       "      <td>his</td>\n",
       "      <td>-PRON-</td>\n",
       "      <td>DET</td>\n",
       "      <td>PRP$</td>\n",
       "      <td>poss</td>\n",
       "      <td>xxx</td>\n",
       "      <td>True</td>\n",
       "      <td>True</td>\n",
       "    </tr>\n",
       "    <tr>\n",
       "      <th>7</th>\n",
       "      <td>birth</td>\n",
       "      <td>birth</td>\n",
       "      <td>NOUN</td>\n",
       "      <td>NN</td>\n",
       "      <td>compound</td>\n",
       "      <td>xxxx</td>\n",
       "      <td>True</td>\n",
       "      <td>False</td>\n",
       "    </tr>\n",
       "    <tr>\n",
       "      <th>8</th>\n",
       "      <td>name</td>\n",
       "      <td>name</td>\n",
       "      <td>NOUN</td>\n",
       "      <td>NN</td>\n",
       "      <td>pobj</td>\n",
       "      <td>xxxx</td>\n",
       "      <td>True</td>\n",
       "      <td>True</td>\n",
       "    </tr>\n",
       "    <tr>\n",
       "      <th>9</th>\n",
       "      <td>Anakin</td>\n",
       "      <td>Anakin</td>\n",
       "      <td>PROPN</td>\n",
       "      <td>NNP</td>\n",
       "      <td>compound</td>\n",
       "      <td>Xxxxx</td>\n",
       "      <td>True</td>\n",
       "      <td>False</td>\n",
       "    </tr>\n",
       "    <tr>\n",
       "      <th>10</th>\n",
       "      <td>Skywalker</td>\n",
       "      <td>Skywalker</td>\n",
       "      <td>PROPN</td>\n",
       "      <td>NNP</td>\n",
       "      <td>appos</td>\n",
       "      <td>Xxxxx</td>\n",
       "      <td>True</td>\n",
       "      <td>False</td>\n",
       "    </tr>\n",
       "    <tr>\n",
       "      <th>11</th>\n",
       "      <td>.</td>\n",
       "      <td>.</td>\n",
       "      <td>PUNCT</td>\n",
       "      <td>.</td>\n",
       "      <td>punct</td>\n",
       "      <td>.</td>\n",
       "      <td>False</td>\n",
       "      <td>False</td>\n",
       "    </tr>\n",
       "  </tbody>\n",
       "</table>\n",
       "</div>"
      ],
      "text/plain": [
       "         Text      Lemma    POS   Tag        Dep  Shape is_alpha is_stop\n",
       "0       Darth      Darth  PROPN   NNP   compound  Xxxxx     True   False\n",
       "1       Vader      Vader  PROPN   NNP  nsubjpass  Xxxxx     True   False\n",
       "2          is         be    AUX   VBZ    auxpass     xx     True    True\n",
       "3        also       also    ADV    RB     advmod   xxxx     True    True\n",
       "4       known       know   VERB   VBN       ROOT   xxxx     True   False\n",
       "5          by         by    ADP    IN       prep     xx     True    True\n",
       "6         his     -PRON-    DET  PRP$       poss    xxx     True    True\n",
       "7       birth      birth   NOUN    NN   compound   xxxx     True   False\n",
       "8        name       name   NOUN    NN       pobj   xxxx     True    True\n",
       "9      Anakin     Anakin  PROPN   NNP   compound  Xxxxx     True   False\n",
       "10  Skywalker  Skywalker  PROPN   NNP      appos  Xxxxx     True   False\n",
       "11          .          .  PUNCT     .      punct      .    False   False"
      ]
     },
     "execution_count": 4,
     "metadata": {},
     "output_type": "execute_result"
    }
   ],
   "source": [
    "doc = nlp('Darth Vader is also known by his birth name Anakin Skywalker.')\n",
    "results = pd.DataFrame(columns=['Text', 'Lemma', 'POS', 'Tag', 'Dep', 'Shape', 'is_alpha', 'is_stop'])\n",
    "\n",
    "for token in doc:  \n",
    "    results = results.append({'Text':token.text, 'Lemma':token.lemma_, 'POS':token.pos_, 'Tag':token.tag_, 'Dep':token.dep_, 'Shape':token.shape_, 'is_alpha':token.is_alpha, 'is_stop':token.is_stop}, ignore_index=True)\n",
    "results"
   ]
  },
  {
   "cell_type": "code",
   "execution_count": 5,
   "metadata": {},
   "outputs": [
    {
     "data": {
      "text/html": [
       "<span class=\"tex2jax_ignore\"><svg xmlns=\"http://www.w3.org/2000/svg\" xmlns:xlink=\"http://www.w3.org/1999/xlink\" xml:lang=\"en\" id=\"5f0f0f0553344933b75c93efe9f9742f-0\" class=\"displacy\" width=\"1975\" height=\"399.5\" direction=\"ltr\" style=\"max-width: none; height: 399.5px; color: #000000; background: #ffffff; font-family: Arial; direction: ltr\">\n",
       "<text class=\"displacy-token\" fill=\"currentColor\" text-anchor=\"middle\" y=\"309.5\">\n",
       "    <tspan class=\"displacy-word\" fill=\"currentColor\" x=\"50\">Darth</tspan>\n",
       "    <tspan class=\"displacy-tag\" dy=\"2em\" fill=\"currentColor\" x=\"50\">PROPN</tspan>\n",
       "</text>\n",
       "\n",
       "<text class=\"displacy-token\" fill=\"currentColor\" text-anchor=\"middle\" y=\"309.5\">\n",
       "    <tspan class=\"displacy-word\" fill=\"currentColor\" x=\"225\">Vader</tspan>\n",
       "    <tspan class=\"displacy-tag\" dy=\"2em\" fill=\"currentColor\" x=\"225\">PROPN</tspan>\n",
       "</text>\n",
       "\n",
       "<text class=\"displacy-token\" fill=\"currentColor\" text-anchor=\"middle\" y=\"309.5\">\n",
       "    <tspan class=\"displacy-word\" fill=\"currentColor\" x=\"400\">is</tspan>\n",
       "    <tspan class=\"displacy-tag\" dy=\"2em\" fill=\"currentColor\" x=\"400\">AUX</tspan>\n",
       "</text>\n",
       "\n",
       "<text class=\"displacy-token\" fill=\"currentColor\" text-anchor=\"middle\" y=\"309.5\">\n",
       "    <tspan class=\"displacy-word\" fill=\"currentColor\" x=\"575\">also</tspan>\n",
       "    <tspan class=\"displacy-tag\" dy=\"2em\" fill=\"currentColor\" x=\"575\">ADV</tspan>\n",
       "</text>\n",
       "\n",
       "<text class=\"displacy-token\" fill=\"currentColor\" text-anchor=\"middle\" y=\"309.5\">\n",
       "    <tspan class=\"displacy-word\" fill=\"currentColor\" x=\"750\">known</tspan>\n",
       "    <tspan class=\"displacy-tag\" dy=\"2em\" fill=\"currentColor\" x=\"750\">VERB</tspan>\n",
       "</text>\n",
       "\n",
       "<text class=\"displacy-token\" fill=\"currentColor\" text-anchor=\"middle\" y=\"309.5\">\n",
       "    <tspan class=\"displacy-word\" fill=\"currentColor\" x=\"925\">by</tspan>\n",
       "    <tspan class=\"displacy-tag\" dy=\"2em\" fill=\"currentColor\" x=\"925\">ADP</tspan>\n",
       "</text>\n",
       "\n",
       "<text class=\"displacy-token\" fill=\"currentColor\" text-anchor=\"middle\" y=\"309.5\">\n",
       "    <tspan class=\"displacy-word\" fill=\"currentColor\" x=\"1100\">his</tspan>\n",
       "    <tspan class=\"displacy-tag\" dy=\"2em\" fill=\"currentColor\" x=\"1100\">DET</tspan>\n",
       "</text>\n",
       "\n",
       "<text class=\"displacy-token\" fill=\"currentColor\" text-anchor=\"middle\" y=\"309.5\">\n",
       "    <tspan class=\"displacy-word\" fill=\"currentColor\" x=\"1275\">birth</tspan>\n",
       "    <tspan class=\"displacy-tag\" dy=\"2em\" fill=\"currentColor\" x=\"1275\">NOUN</tspan>\n",
       "</text>\n",
       "\n",
       "<text class=\"displacy-token\" fill=\"currentColor\" text-anchor=\"middle\" y=\"309.5\">\n",
       "    <tspan class=\"displacy-word\" fill=\"currentColor\" x=\"1450\">name</tspan>\n",
       "    <tspan class=\"displacy-tag\" dy=\"2em\" fill=\"currentColor\" x=\"1450\">NOUN</tspan>\n",
       "</text>\n",
       "\n",
       "<text class=\"displacy-token\" fill=\"currentColor\" text-anchor=\"middle\" y=\"309.5\">\n",
       "    <tspan class=\"displacy-word\" fill=\"currentColor\" x=\"1625\">Anakin</tspan>\n",
       "    <tspan class=\"displacy-tag\" dy=\"2em\" fill=\"currentColor\" x=\"1625\">PROPN</tspan>\n",
       "</text>\n",
       "\n",
       "<text class=\"displacy-token\" fill=\"currentColor\" text-anchor=\"middle\" y=\"309.5\">\n",
       "    <tspan class=\"displacy-word\" fill=\"currentColor\" x=\"1800\">Skywalker.</tspan>\n",
       "    <tspan class=\"displacy-tag\" dy=\"2em\" fill=\"currentColor\" x=\"1800\">PROPN</tspan>\n",
       "</text>\n",
       "\n",
       "<g class=\"displacy-arrow\">\n",
       "    <path class=\"displacy-arc\" id=\"arrow-5f0f0f0553344933b75c93efe9f9742f-0-0\" stroke-width=\"2px\" d=\"M70,264.5 C70,177.0 215.0,177.0 215.0,264.5\" fill=\"none\" stroke=\"currentColor\"/>\n",
       "    <text dy=\"1.25em\" style=\"font-size: 0.8em; letter-spacing: 1px\">\n",
       "        <textPath xlink:href=\"#arrow-5f0f0f0553344933b75c93efe9f9742f-0-0\" class=\"displacy-label\" startOffset=\"50%\" side=\"left\" fill=\"currentColor\" text-anchor=\"middle\">compound</textPath>\n",
       "    </text>\n",
       "    <path class=\"displacy-arrowhead\" d=\"M70,266.5 L62,254.5 78,254.5\" fill=\"currentColor\"/>\n",
       "</g>\n",
       "\n",
       "<g class=\"displacy-arrow\">\n",
       "    <path class=\"displacy-arc\" id=\"arrow-5f0f0f0553344933b75c93efe9f9742f-0-1\" stroke-width=\"2px\" d=\"M245,264.5 C245,2.0 750.0,2.0 750.0,264.5\" fill=\"none\" stroke=\"currentColor\"/>\n",
       "    <text dy=\"1.25em\" style=\"font-size: 0.8em; letter-spacing: 1px\">\n",
       "        <textPath xlink:href=\"#arrow-5f0f0f0553344933b75c93efe9f9742f-0-1\" class=\"displacy-label\" startOffset=\"50%\" side=\"left\" fill=\"currentColor\" text-anchor=\"middle\">nsubjpass</textPath>\n",
       "    </text>\n",
       "    <path class=\"displacy-arrowhead\" d=\"M245,266.5 L237,254.5 253,254.5\" fill=\"currentColor\"/>\n",
       "</g>\n",
       "\n",
       "<g class=\"displacy-arrow\">\n",
       "    <path class=\"displacy-arc\" id=\"arrow-5f0f0f0553344933b75c93efe9f9742f-0-2\" stroke-width=\"2px\" d=\"M420,264.5 C420,89.5 745.0,89.5 745.0,264.5\" fill=\"none\" stroke=\"currentColor\"/>\n",
       "    <text dy=\"1.25em\" style=\"font-size: 0.8em; letter-spacing: 1px\">\n",
       "        <textPath xlink:href=\"#arrow-5f0f0f0553344933b75c93efe9f9742f-0-2\" class=\"displacy-label\" startOffset=\"50%\" side=\"left\" fill=\"currentColor\" text-anchor=\"middle\">auxpass</textPath>\n",
       "    </text>\n",
       "    <path class=\"displacy-arrowhead\" d=\"M420,266.5 L412,254.5 428,254.5\" fill=\"currentColor\"/>\n",
       "</g>\n",
       "\n",
       "<g class=\"displacy-arrow\">\n",
       "    <path class=\"displacy-arc\" id=\"arrow-5f0f0f0553344933b75c93efe9f9742f-0-3\" stroke-width=\"2px\" d=\"M595,264.5 C595,177.0 740.0,177.0 740.0,264.5\" fill=\"none\" stroke=\"currentColor\"/>\n",
       "    <text dy=\"1.25em\" style=\"font-size: 0.8em; letter-spacing: 1px\">\n",
       "        <textPath xlink:href=\"#arrow-5f0f0f0553344933b75c93efe9f9742f-0-3\" class=\"displacy-label\" startOffset=\"50%\" side=\"left\" fill=\"currentColor\" text-anchor=\"middle\">advmod</textPath>\n",
       "    </text>\n",
       "    <path class=\"displacy-arrowhead\" d=\"M595,266.5 L587,254.5 603,254.5\" fill=\"currentColor\"/>\n",
       "</g>\n",
       "\n",
       "<g class=\"displacy-arrow\">\n",
       "    <path class=\"displacy-arc\" id=\"arrow-5f0f0f0553344933b75c93efe9f9742f-0-4\" stroke-width=\"2px\" d=\"M770,264.5 C770,177.0 915.0,177.0 915.0,264.5\" fill=\"none\" stroke=\"currentColor\"/>\n",
       "    <text dy=\"1.25em\" style=\"font-size: 0.8em; letter-spacing: 1px\">\n",
       "        <textPath xlink:href=\"#arrow-5f0f0f0553344933b75c93efe9f9742f-0-4\" class=\"displacy-label\" startOffset=\"50%\" side=\"left\" fill=\"currentColor\" text-anchor=\"middle\">prep</textPath>\n",
       "    </text>\n",
       "    <path class=\"displacy-arrowhead\" d=\"M915.0,266.5 L923.0,254.5 907.0,254.5\" fill=\"currentColor\"/>\n",
       "</g>\n",
       "\n",
       "<g class=\"displacy-arrow\">\n",
       "    <path class=\"displacy-arc\" id=\"arrow-5f0f0f0553344933b75c93efe9f9742f-0-5\" stroke-width=\"2px\" d=\"M1120,264.5 C1120,89.5 1445.0,89.5 1445.0,264.5\" fill=\"none\" stroke=\"currentColor\"/>\n",
       "    <text dy=\"1.25em\" style=\"font-size: 0.8em; letter-spacing: 1px\">\n",
       "        <textPath xlink:href=\"#arrow-5f0f0f0553344933b75c93efe9f9742f-0-5\" class=\"displacy-label\" startOffset=\"50%\" side=\"left\" fill=\"currentColor\" text-anchor=\"middle\">poss</textPath>\n",
       "    </text>\n",
       "    <path class=\"displacy-arrowhead\" d=\"M1120,266.5 L1112,254.5 1128,254.5\" fill=\"currentColor\"/>\n",
       "</g>\n",
       "\n",
       "<g class=\"displacy-arrow\">\n",
       "    <path class=\"displacy-arc\" id=\"arrow-5f0f0f0553344933b75c93efe9f9742f-0-6\" stroke-width=\"2px\" d=\"M1295,264.5 C1295,177.0 1440.0,177.0 1440.0,264.5\" fill=\"none\" stroke=\"currentColor\"/>\n",
       "    <text dy=\"1.25em\" style=\"font-size: 0.8em; letter-spacing: 1px\">\n",
       "        <textPath xlink:href=\"#arrow-5f0f0f0553344933b75c93efe9f9742f-0-6\" class=\"displacy-label\" startOffset=\"50%\" side=\"left\" fill=\"currentColor\" text-anchor=\"middle\">compound</textPath>\n",
       "    </text>\n",
       "    <path class=\"displacy-arrowhead\" d=\"M1295,266.5 L1287,254.5 1303,254.5\" fill=\"currentColor\"/>\n",
       "</g>\n",
       "\n",
       "<g class=\"displacy-arrow\">\n",
       "    <path class=\"displacy-arc\" id=\"arrow-5f0f0f0553344933b75c93efe9f9742f-0-7\" stroke-width=\"2px\" d=\"M945,264.5 C945,2.0 1450.0,2.0 1450.0,264.5\" fill=\"none\" stroke=\"currentColor\"/>\n",
       "    <text dy=\"1.25em\" style=\"font-size: 0.8em; letter-spacing: 1px\">\n",
       "        <textPath xlink:href=\"#arrow-5f0f0f0553344933b75c93efe9f9742f-0-7\" class=\"displacy-label\" startOffset=\"50%\" side=\"left\" fill=\"currentColor\" text-anchor=\"middle\">pobj</textPath>\n",
       "    </text>\n",
       "    <path class=\"displacy-arrowhead\" d=\"M1450.0,266.5 L1458.0,254.5 1442.0,254.5\" fill=\"currentColor\"/>\n",
       "</g>\n",
       "\n",
       "<g class=\"displacy-arrow\">\n",
       "    <path class=\"displacy-arc\" id=\"arrow-5f0f0f0553344933b75c93efe9f9742f-0-8\" stroke-width=\"2px\" d=\"M1645,264.5 C1645,177.0 1790.0,177.0 1790.0,264.5\" fill=\"none\" stroke=\"currentColor\"/>\n",
       "    <text dy=\"1.25em\" style=\"font-size: 0.8em; letter-spacing: 1px\">\n",
       "        <textPath xlink:href=\"#arrow-5f0f0f0553344933b75c93efe9f9742f-0-8\" class=\"displacy-label\" startOffset=\"50%\" side=\"left\" fill=\"currentColor\" text-anchor=\"middle\">compound</textPath>\n",
       "    </text>\n",
       "    <path class=\"displacy-arrowhead\" d=\"M1645,266.5 L1637,254.5 1653,254.5\" fill=\"currentColor\"/>\n",
       "</g>\n",
       "\n",
       "<g class=\"displacy-arrow\">\n",
       "    <path class=\"displacy-arc\" id=\"arrow-5f0f0f0553344933b75c93efe9f9742f-0-9\" stroke-width=\"2px\" d=\"M1470,264.5 C1470,89.5 1795.0,89.5 1795.0,264.5\" fill=\"none\" stroke=\"currentColor\"/>\n",
       "    <text dy=\"1.25em\" style=\"font-size: 0.8em; letter-spacing: 1px\">\n",
       "        <textPath xlink:href=\"#arrow-5f0f0f0553344933b75c93efe9f9742f-0-9\" class=\"displacy-label\" startOffset=\"50%\" side=\"left\" fill=\"currentColor\" text-anchor=\"middle\">appos</textPath>\n",
       "    </text>\n",
       "    <path class=\"displacy-arrowhead\" d=\"M1795.0,266.5 L1803.0,254.5 1787.0,254.5\" fill=\"currentColor\"/>\n",
       "</g>\n",
       "</svg></span>"
      ],
      "text/plain": [
       "<IPython.core.display.HTML object>"
      ]
     },
     "metadata": {},
     "output_type": "display_data"
    }
   ],
   "source": [
    "svg = displacy.render(doc, style=\"dep\",jupyter=True)\n",
    "#output_path = Path(\"dep.svg\")\n",
    "#output_path.open(\"w\", encoding=\"utf-8\").write(svg)"
   ]
  },
  {
   "cell_type": "markdown",
   "metadata": {},
   "source": [
    "# Named Entities (NER)"
   ]
  },
  {
   "cell_type": "markdown",
   "metadata": {},
   "source": [
    "<b>Text</b>: The original entity text.<br>\n",
    "<b>Start</b>: Index of start of entity in the Doc.<br>\n",
    "<b>End</b>: Index of end of entity in the Doc.<br>\n",
    "<b>Label</b>: Entity label, i.e. type.<br>"
   ]
  },
  {
   "cell_type": "code",
   "execution_count": 6,
   "metadata": {},
   "outputs": [
    {
     "data": {
      "text/html": [
       "<div>\n",
       "<style scoped>\n",
       "    .dataframe tbody tr th:only-of-type {\n",
       "        vertical-align: middle;\n",
       "    }\n",
       "\n",
       "    .dataframe tbody tr th {\n",
       "        vertical-align: top;\n",
       "    }\n",
       "\n",
       "    .dataframe thead th {\n",
       "        text-align: right;\n",
       "    }\n",
       "</style>\n",
       "<table border=\"1\" class=\"dataframe\">\n",
       "  <thead>\n",
       "    <tr style=\"text-align: right;\">\n",
       "      <th></th>\n",
       "      <th>Text</th>\n",
       "      <th>Start</th>\n",
       "      <th>End</th>\n",
       "      <th>Label</th>\n",
       "    </tr>\n",
       "  </thead>\n",
       "  <tbody>\n",
       "    <tr>\n",
       "      <th>0</th>\n",
       "      <td>Darth Vader</td>\n",
       "      <td>0</td>\n",
       "      <td>11</td>\n",
       "      <td>PERSON</td>\n",
       "    </tr>\n",
       "    <tr>\n",
       "      <th>1</th>\n",
       "      <td>Anakin Skywalker</td>\n",
       "      <td>44</td>\n",
       "      <td>60</td>\n",
       "      <td>PERSON</td>\n",
       "    </tr>\n",
       "  </tbody>\n",
       "</table>\n",
       "</div>"
      ],
      "text/plain": [
       "               Text Start End   Label\n",
       "0       Darth Vader     0  11  PERSON\n",
       "1  Anakin Skywalker    44  60  PERSON"
      ]
     },
     "execution_count": 6,
     "metadata": {},
     "output_type": "execute_result"
    }
   ],
   "source": [
    "doc = nlp('Darth Vader is also known by his birth name Anakin Skywalker.')\n",
    "results = pd.DataFrame(columns=['Text', 'Start', 'End', 'Label'])\n",
    "\n",
    "for ent in doc.ents:  \n",
    "    results = results.append({'Text':ent.text, 'Start':ent.start_char, 'End':ent.end_char, 'Label':ent.label_}, ignore_index=True)\n",
    "results"
   ]
  },
  {
   "cell_type": "code",
   "execution_count": 7,
   "metadata": {},
   "outputs": [
    {
     "data": {
      "text/html": [
       "<span class=\"tex2jax_ignore\"><div class=\"entities\" style=\"line-height: 2.5; direction: ltr\">\n",
       "<mark class=\"entity\" style=\"background: #aa9cfc; padding: 0.45em 0.6em; margin: 0 0.25em; line-height: 1; border-radius: 0.35em;\">\n",
       "    Darth Vader\n",
       "    <span style=\"font-size: 0.8em; font-weight: bold; line-height: 1; border-radius: 0.35em; text-transform: uppercase; vertical-align: middle; margin-left: 0.5rem\">PERSON</span>\n",
       "</mark>\n",
       " is also known by his birth name \n",
       "<mark class=\"entity\" style=\"background: #aa9cfc; padding: 0.45em 0.6em; margin: 0 0.25em; line-height: 1; border-radius: 0.35em;\">\n",
       "    Anakin Skywalker\n",
       "    <span style=\"font-size: 0.8em; font-weight: bold; line-height: 1; border-radius: 0.35em; text-transform: uppercase; vertical-align: middle; margin-left: 0.5rem\">PERSON</span>\n",
       "</mark>\n",
       ".</div></span>"
      ],
      "text/plain": [
       "<IPython.core.display.HTML object>"
      ]
     },
     "metadata": {},
     "output_type": "display_data"
    }
   ],
   "source": [
    "displacy.render(doc, style=\"ent\")"
   ]
  },
  {
   "cell_type": "markdown",
   "metadata": {},
   "source": [
    "# Larger Text Example"
   ]
  },
  {
   "cell_type": "code",
   "execution_count": 8,
   "metadata": {},
   "outputs": [
    {
     "data": {
      "text/plain": [
       "'Darth Vader, also known by his birth name Anakin Skywalker, is a fictional character in the Star Wars franchise.123 Vader appears in the original film trilogy as a pivotal antagonist whose actions drive the plot, while his past as Anakin Skywalker and the story of his corruption are central to the narrative of the prequel trilogy., The character was created by George Lucas and has been portrayed by numerous actors. His appearances span the first six Star Wars films, as well as Rogue One, and his character is heavily referenced in Star Wars: The Force Awakens. He is also an important character in the Star Wars expanded universe of television series, video games, novels, literature and comic books. Originally a Jedi prophesied to bring balance to the Force, he falls to the dark side of the Force and serves the evil Galactic Empire at the right hand of his Sith master, Emperor Palpatine (also known as Darth Sidious).4 He is also the father of Luke Skywalker and Princess Leia Organa, secret husband of Padmé Amidala and grandfather of Kylo Ren., Darth Vader has become one of the most iconic villains in popular culture, and has been listed among the greatest villains and fictional characters ever.56 The American Film Institute listed him as the third greatest movie villain in cinema history on 100 Years... 100 Heroes and Villains, behind Hannibal Lecter and Norman Bates.7 However, other critics consider him a tragic hero, citing his original motivations for the greater good before his fall to the dark side.'"
      ]
     },
     "execution_count": 8,
     "metadata": {},
     "output_type": "execute_result"
    }
   ],
   "source": [
    "article = 'Darth Vader, also known by his birth name Anakin Skywalker, is a fictional character in the Star Wars franchise.123 Vader appears in the original film trilogy as a pivotal antagonist whose actions drive the plot, while his past as Anakin Skywalker and the story of his corruption are central to the narrative of the prequel trilogy., The character was created by George Lucas and has been portrayed by numerous actors. His appearances span the first six Star Wars films, as well as Rogue One, and his character is heavily referenced in Star Wars: The Force Awakens. He is also an important character in the Star Wars expanded universe of television series, video games, novels, literature and comic books. Originally a Jedi prophesied to bring balance to the Force, he falls to the dark side of the Force and serves the evil Galactic Empire at the right hand of his Sith master, Emperor Palpatine (also known as Darth Sidious).4 He is also the father of Luke Skywalker and Princess Leia Organa, secret husband of Padmé Amidala and grandfather of Kylo Ren., Darth Vader has become one of the most iconic villains in popular culture, and has been listed among the greatest villains and fictional characters ever.56 The American Film Institute listed him as the third greatest movie villain in cinema history on 100 Years... 100 Heroes and Villains, behind Hannibal Lecter and Norman Bates.7 However, other critics consider him a tragic hero, citing his original motivations for the greater good before his fall to the dark side.'\n",
    "article"
   ]
  },
  {
   "cell_type": "code",
   "execution_count": 9,
   "metadata": {},
   "outputs": [
    {
     "data": {
      "text/html": [
       "<div>\n",
       "<style scoped>\n",
       "    .dataframe tbody tr th:only-of-type {\n",
       "        vertical-align: middle;\n",
       "    }\n",
       "\n",
       "    .dataframe tbody tr th {\n",
       "        vertical-align: top;\n",
       "    }\n",
       "\n",
       "    .dataframe thead th {\n",
       "        text-align: right;\n",
       "    }\n",
       "</style>\n",
       "<table border=\"1\" class=\"dataframe\">\n",
       "  <thead>\n",
       "    <tr style=\"text-align: right;\">\n",
       "      <th></th>\n",
       "      <th>Text</th>\n",
       "      <th>Lemma</th>\n",
       "      <th>POS</th>\n",
       "      <th>Tag</th>\n",
       "      <th>Dep</th>\n",
       "      <th>Shape</th>\n",
       "      <th>is_alpha</th>\n",
       "      <th>is_stop</th>\n",
       "    </tr>\n",
       "  </thead>\n",
       "  <tbody>\n",
       "    <tr>\n",
       "      <th>0</th>\n",
       "      <td>Darth</td>\n",
       "      <td>Darth</td>\n",
       "      <td>PROPN</td>\n",
       "      <td>NNP</td>\n",
       "      <td>compound</td>\n",
       "      <td>Xxxxx</td>\n",
       "      <td>True</td>\n",
       "      <td>False</td>\n",
       "    </tr>\n",
       "    <tr>\n",
       "      <th>1</th>\n",
       "      <td>Vader</td>\n",
       "      <td>Vader</td>\n",
       "      <td>PROPN</td>\n",
       "      <td>NNP</td>\n",
       "      <td>nsubj</td>\n",
       "      <td>Xxxxx</td>\n",
       "      <td>True</td>\n",
       "      <td>False</td>\n",
       "    </tr>\n",
       "    <tr>\n",
       "      <th>2</th>\n",
       "      <td>,</td>\n",
       "      <td>,</td>\n",
       "      <td>PUNCT</td>\n",
       "      <td>,</td>\n",
       "      <td>punct</td>\n",
       "      <td>,</td>\n",
       "      <td>False</td>\n",
       "      <td>False</td>\n",
       "    </tr>\n",
       "    <tr>\n",
       "      <th>3</th>\n",
       "      <td>also</td>\n",
       "      <td>also</td>\n",
       "      <td>ADV</td>\n",
       "      <td>RB</td>\n",
       "      <td>advmod</td>\n",
       "      <td>xxxx</td>\n",
       "      <td>True</td>\n",
       "      <td>True</td>\n",
       "    </tr>\n",
       "    <tr>\n",
       "      <th>4</th>\n",
       "      <td>known</td>\n",
       "      <td>know</td>\n",
       "      <td>VERB</td>\n",
       "      <td>VBN</td>\n",
       "      <td>acl</td>\n",
       "      <td>xxxx</td>\n",
       "      <td>True</td>\n",
       "      <td>False</td>\n",
       "    </tr>\n",
       "    <tr>\n",
       "      <th>...</th>\n",
       "      <td>...</td>\n",
       "      <td>...</td>\n",
       "      <td>...</td>\n",
       "      <td>...</td>\n",
       "      <td>...</td>\n",
       "      <td>...</td>\n",
       "      <td>...</td>\n",
       "      <td>...</td>\n",
       "    </tr>\n",
       "    <tr>\n",
       "      <th>277</th>\n",
       "      <td>to</td>\n",
       "      <td>to</td>\n",
       "      <td>ADP</td>\n",
       "      <td>IN</td>\n",
       "      <td>prep</td>\n",
       "      <td>xx</td>\n",
       "      <td>True</td>\n",
       "      <td>True</td>\n",
       "    </tr>\n",
       "    <tr>\n",
       "      <th>278</th>\n",
       "      <td>the</td>\n",
       "      <td>the</td>\n",
       "      <td>DET</td>\n",
       "      <td>DT</td>\n",
       "      <td>det</td>\n",
       "      <td>xxx</td>\n",
       "      <td>True</td>\n",
       "      <td>True</td>\n",
       "    </tr>\n",
       "    <tr>\n",
       "      <th>279</th>\n",
       "      <td>dark</td>\n",
       "      <td>dark</td>\n",
       "      <td>ADJ</td>\n",
       "      <td>JJ</td>\n",
       "      <td>amod</td>\n",
       "      <td>xxxx</td>\n",
       "      <td>True</td>\n",
       "      <td>False</td>\n",
       "    </tr>\n",
       "    <tr>\n",
       "      <th>280</th>\n",
       "      <td>side</td>\n",
       "      <td>side</td>\n",
       "      <td>NOUN</td>\n",
       "      <td>NN</td>\n",
       "      <td>pobj</td>\n",
       "      <td>xxxx</td>\n",
       "      <td>True</td>\n",
       "      <td>True</td>\n",
       "    </tr>\n",
       "    <tr>\n",
       "      <th>281</th>\n",
       "      <td>.</td>\n",
       "      <td>.</td>\n",
       "      <td>PUNCT</td>\n",
       "      <td>.</td>\n",
       "      <td>punct</td>\n",
       "      <td>.</td>\n",
       "      <td>False</td>\n",
       "      <td>False</td>\n",
       "    </tr>\n",
       "  </tbody>\n",
       "</table>\n",
       "<p>282 rows × 8 columns</p>\n",
       "</div>"
      ],
      "text/plain": [
       "      Text  Lemma    POS  Tag       Dep  Shape is_alpha is_stop\n",
       "0    Darth  Darth  PROPN  NNP  compound  Xxxxx     True   False\n",
       "1    Vader  Vader  PROPN  NNP     nsubj  Xxxxx     True   False\n",
       "2        ,      ,  PUNCT    ,     punct      ,    False   False\n",
       "3     also   also    ADV   RB    advmod   xxxx     True    True\n",
       "4    known   know   VERB  VBN       acl   xxxx     True   False\n",
       "..     ...    ...    ...  ...       ...    ...      ...     ...\n",
       "277     to     to    ADP   IN      prep     xx     True    True\n",
       "278    the    the    DET   DT       det    xxx     True    True\n",
       "279   dark   dark    ADJ   JJ      amod   xxxx     True   False\n",
       "280   side   side   NOUN   NN      pobj   xxxx     True    True\n",
       "281      .      .  PUNCT    .     punct      .    False   False\n",
       "\n",
       "[282 rows x 8 columns]"
      ]
     },
     "execution_count": 9,
     "metadata": {},
     "output_type": "execute_result"
    }
   ],
   "source": [
    "doc = nlp(article)\n",
    "results = pd.DataFrame(columns=['Text', 'Lemma', 'POS', 'Tag', 'Dep', 'Shape', 'is_alpha', 'is_stop'])\n",
    "\n",
    "for token in doc:  \n",
    "    results = results.append({'Text':token.text, 'Lemma':token.lemma_, 'POS':token.pos_, 'Tag':token.tag_, 'Dep':token.dep_, 'Shape':token.shape_, 'is_alpha':token.is_alpha, 'is_stop':token.is_stop}, ignore_index=True)\n",
    "results"
   ]
  },
  {
   "cell_type": "code",
   "execution_count": 10,
   "metadata": {},
   "outputs": [],
   "source": [
    "#displacy.render(doc, style=\"dep\", jupyter=True)"
   ]
  },
  {
   "cell_type": "markdown",
   "metadata": {},
   "source": [
    "# Stanford Open Information Extraction using CoreNLP"
   ]
  },
  {
   "cell_type": "markdown",
   "metadata": {},
   "source": [
    "https://nlp.stanford.edu/software/openie.html"
   ]
  },
  {
   "cell_type": "markdown",
   "metadata": {},
   "source": [
    "Extracting {entity1, relation, entity2} triples:"
   ]
  },
  {
   "cell_type": "code",
   "execution_count": 11,
   "metadata": {},
   "outputs": [],
   "source": [
    "from openie import StanfordOpenIE"
   ]
  },
  {
   "cell_type": "code",
   "execution_count": 12,
   "metadata": {},
   "outputs": [
    {
     "name": "stdout",
     "output_type": "stream",
     "text": [
      "Text: Darth Vader is also known by his birth name Anakin Skywalker..\n",
      "Starting server with command: java -Xmx8G -cp /Users/rhythmsyed/stanfordnlp_resources/stanford-corenlp-full-2018-10-05/* edu.stanford.nlp.pipeline.StanfordCoreNLPServer -port 9000 -timeout 60000 -threads 5 -maxCharLength 100000 -quiet True -serverProperties corenlp_server-c22e1aaae0714918.props -preload openie\n",
      "{'subject': 'Darth Vader', 'relation': 'is known by', 'object': 'his birth name Anakin Skywalker'}\n",
      "{'subject': 'Darth Vader', 'relation': 'is', 'object': 'also known'}\n",
      "{'subject': 'Darth Vader', 'relation': 'is', 'object': 'known'}\n",
      "{'subject': 'Darth Vader', 'relation': 'is also known by', 'object': 'his birth name Anakin Skywalker'}\n"
     ]
    }
   ],
   "source": [
    "with StanfordOpenIE() as client:\n",
    "    text = 'Darth Vader is also known by his birth name Anakin Skywalker.'\n",
    "    print('Text: %s.' % text)\n",
    "    \n",
    "    for triple in client.annotate(text):\n",
    "        print(triple)"
   ]
  },
  {
   "cell_type": "markdown",
   "metadata": {},
   "source": [
    "Trying longer document text:"
   ]
  },
  {
   "cell_type": "code",
   "execution_count": 13,
   "metadata": {},
   "outputs": [
    {
     "name": "stdout",
     "output_type": "stream",
     "text": [
      "Text: Darth Vader, also known by his birth name Anakin Skywalker, is a fictional character in the Star Wars franchise.123 Vader appears in the original film trilogy as a pivotal antagonist whose actions drive the plot, while his past as Anakin Skywalker and the story of his corruption are central to the narrative of the prequel trilogy., The character was created by George Lucas and has been portrayed by numerous actors. His appearances span the first six Star Wars films, as well as Rogue One, and his character is heavily referenced in Star Wars: The Force Awakens. He is also an important character in the Star Wars expanded universe of television series, video games, novels, literature and comic books. Originally a Jedi prophesied to bring balance to the Force, he falls to the dark side of the Force and serves the evil Galactic Empire at the right hand of his Sith master, Emperor Palpatine (also known as Darth Sidious).4 He is also the father of Luke Skywalker and Princess Leia Organa, secret husband of Padmé Amidala and grandfather of Kylo Ren., Darth Vader has become one of the most iconic villains in popular culture, and has been listed among the greatest villains and fictional characters ever.56 The American Film Institute listed him as the third greatest movie villain in cinema history on 100 Years... 100 Heroes and Villains, behind Hannibal Lecter and Norman Bates.7 However, other critics consider him a tragic hero, citing his original motivations for the greater good before his fall to the dark side..\n",
      "Starting server with command: java -Xmx8G -cp /Users/rhythmsyed/stanfordnlp_resources/stanford-corenlp-full-2018-10-05/* edu.stanford.nlp.pipeline.StanfordCoreNLPServer -port 9000 -timeout 60000 -threads 5 -maxCharLength 100000 -quiet True -serverProperties corenlp_server-7e2b9c5e91a248d9.props -preload openie\n"
     ]
    }
   ],
   "source": [
    "triples = []\n",
    "with StanfordOpenIE() as client:\n",
    "    print('Text: %s.' % article)\n",
    "    for triple in client.annotate(article):\n",
    "        triples.append(triple)"
   ]
  },
  {
   "cell_type": "code",
   "execution_count": 14,
   "metadata": {},
   "outputs": [
    {
     "data": {
      "text/plain": [
       "[{'subject': 'Darth Vader', 'relation': 'is', 'object': 'fictional character'},\n",
       " {'subject': 'fictional character',\n",
       "  'relation': 'is in',\n",
       "  'object': 'Star Wars franchise'},\n",
       " {'subject': 'Vader', 'relation': 'appears in', 'object': 'film trilogy'}]"
      ]
     },
     "execution_count": 14,
     "metadata": {},
     "output_type": "execute_result"
    }
   ],
   "source": [
    "triples[:3]"
   ]
  },
  {
   "cell_type": "code",
   "execution_count": 15,
   "metadata": {},
   "outputs": [
    {
     "name": "stdout",
     "output_type": "stream",
     "text": [
      "Number of Entity-Relation triples: 89\n"
     ]
    }
   ],
   "source": [
    "print(f'Number of Entity-Relation triples: {len(triples)}')"
   ]
  },
  {
   "cell_type": "markdown",
   "metadata": {},
   "source": [
    "# Encoding using BERT"
   ]
  },
  {
   "cell_type": "markdown",
   "metadata": {},
   "source": [
    "https://explosion.ai/blog/spacy-transformers"
   ]
  },
  {
   "cell_type": "code",
   "execution_count": 16,
   "metadata": {},
   "outputs": [],
   "source": [
    "import spacy\n",
    "import en_trf_bertbaseuncased_lg\n",
    "\n",
    "nlp = en_trf_bertbaseuncased_lg.load()"
   ]
  },
  {
   "cell_type": "markdown",
   "metadata": {},
   "source": [
    "Use word-level embeddings from BERT to add context to tokens:"
   ]
  },
  {
   "cell_type": "code",
   "execution_count": 17,
   "metadata": {},
   "outputs": [],
   "source": [
    "apple1 = nlp(\"Apple shares rose on the news.\")\n",
    "apple2 = nlp(\"Apple sold fewer iPhones this quarter.\")\n",
    "apple3 = nlp(\"Apple pie is delicious.\")"
   ]
  },
  {
   "cell_type": "code",
   "execution_count": 18,
   "metadata": {},
   "outputs": [
    {
     "name": "stdout",
     "output_type": "stream",
     "text": [
      "0.7342852\n",
      "0.433657\n"
     ]
    }
   ],
   "source": [
    "print(apple1[0].similarity(apple2[0]))\n",
    "print(apple1[0].similarity(apple3[0]))"
   ]
  },
  {
   "cell_type": "code",
   "execution_count": 19,
   "metadata": {},
   "outputs": [],
   "source": [
    "article_enc = nlp(article)\n",
    "vader_example = nlp('A popular dialogue from Darth Vader is, Luke I am your father.')"
   ]
  },
  {
   "cell_type": "code",
   "execution_count": 20,
   "metadata": {},
   "outputs": [
    {
     "data": {
      "text/plain": [
       "0.7885571923391387"
      ]
     },
     "execution_count": 20,
     "metadata": {},
     "output_type": "execute_result"
    }
   ],
   "source": [
    "article_enc.similarity(vader_example)"
   ]
  },
  {
   "cell_type": "code",
   "execution_count": 21,
   "metadata": {},
   "outputs": [
    {
     "data": {
      "text/plain": [
       "0.7175568134427756"
      ]
     },
     "execution_count": 21,
     "metadata": {},
     "output_type": "execute_result"
    }
   ],
   "source": [
    "test = ' '.join(x for x in triples[0].values())\n",
    "article_enc.similarity(nlp(test))"
   ]
  },
  {
   "cell_type": "markdown",
   "metadata": {},
   "source": [
    "Check cosine similarity of each triple and original article and eliminate based on threshold:"
   ]
  },
  {
   "cell_type": "code",
   "execution_count": 22,
   "metadata": {},
   "outputs": [
    {
     "name": "stdout",
     "output_type": "stream",
     "text": [
      "{'subject': 'Darth Vader', 'relation': 'is', 'object': 'fictional character'} 0.7175568134427756\n",
      "\n",
      "{'subject': 'fictional character', 'relation': 'is in', 'object': 'Star Wars franchise'} 0.6769007695427789\n",
      "\n",
      "{'subject': 'Vader', 'relation': 'appears in', 'object': 'film trilogy'} 0.6853778819379464\n",
      "\n",
      "{'subject': 'character', 'relation': 'was', 'object': 'created'} 0.4450941733865092\n",
      "\n",
      "{'subject': 'Vader', 'relation': 'appears as', 'object': 'pivotal antagonist'} 0.6134172752533587\n",
      "\n",
      "{'subject': '.123 Vader', 'relation': 'appears in', 'object': 'original film trilogy'} 0.7367025108877702\n",
      "\n",
      "{'subject': '.123 Vader', 'relation': 'appears as', 'object': 'pivotal antagonist'} 0.6415943665749564\n",
      "\n",
      "{'subject': 'character', 'relation': 'been portrayed by', 'object': 'numerous actors'} 0.5961205702483965\n",
      "\n",
      "{'subject': 'Darth Vader', 'relation': 'also known by', 'object': 'his birth name Anakin Skywalker'} 0.7996625754653531\n",
      "\n",
      "{'subject': 'Vader', 'relation': 'appears as', 'object': 'antagonist'} 0.6105470371172497\n",
      "\n",
      "{'subject': 'his past', 'relation': 'are central to', 'object': 'narrative of prequel trilogy.'} 0.622305413638658\n",
      "\n",
      "{'subject': 'character', 'relation': 'been portrayed by', 'object': 'actors'} 0.5213287158529105\n",
      "\n",
      "{'subject': '.123 Vader', 'relation': 'appears in', 'object': 'film trilogy'} 0.707011631591966\n",
      "\n",
      "{'subject': 'Vader', 'relation': 'appears in', 'object': 'original film trilogy'} 0.7087003271776108\n",
      "\n",
      "{'subject': 'Darth Vader', 'relation': 'known by', 'object': 'his birth name Anakin Skywalker'} 0.7840042915395398\n",
      "\n",
      "{'subject': 'Darth Vader', 'relation': 'is fictional character in', 'object': 'Star Wars franchise'} 0.7916756945164675\n",
      "\n",
      "{'subject': 'character', 'relation': 'been', 'object': 'portrayed'} 0.4257191628523221\n",
      "\n",
      "{'subject': 'his past', 'relation': 'are central to', 'object': 'narrative'} 0.5440775151569965\n",
      "\n",
      "{'subject': 'character', 'relation': 'was created by', 'object': 'George Lucas'} 0.5991293606397613\n",
      "\n",
      "{'subject': 'actions', 'relation': 'drive', 'object': 'plot'} 0.4023492498973969\n",
      "\n",
      "{'subject': '.123 Vader', 'relation': 'appears as', 'object': 'antagonist'} 0.6564969894474385\n",
      "\n",
      "{'subject': 'his past', 'relation': 'are', 'object': 'central'} 0.44455969125208306\n",
      "\n",
      "{'subject': 'his character', 'relation': 'is heavily referenced in', 'object': 'Star Wars'} 0.8264422267090684\n",
      "\n",
      "{'subject': 'His appearances', 'relation': 'span', 'object': 'six Star Wars films'} 0.7368131506239786\n",
      "\n",
      "{'subject': 'His appearances', 'relation': 'span', 'object': 'Rogue One'} 0.5885746751510569\n",
      "\n",
      "{'subject': 'his character', 'relation': 'is referenced in', 'object': 'Star Wars'} 0.8140245172330541\n",
      "\n",
      "{'subject': 'his character', 'relation': 'is', 'object': 'heavily referenced'} 0.587891515722611\n",
      "\n",
      "{'subject': 'His appearances', 'relation': 'span', 'object': 'first six Star Wars films'} 0.738563717844696\n",
      "\n",
      "{'subject': 'his character', 'relation': 'is', 'object': 'referenced'} 0.495400477403633\n",
      "\n",
      "{'subject': 'He', 'relation': 'is also character in', 'object': 'Star Wars'} 0.7497793423410709\n",
      "\n",
      "{'subject': 'important character', 'relation': 'is in', 'object': 'Star Wars'} 0.6620177595523723\n",
      "\n",
      "{'subject': 'He', 'relation': 'is', 'object': 'important'} 0.42785696335459694\n",
      "\n",
      "{'subject': 'He', 'relation': 'is', 'object': 'also character'} 0.460482901774895\n",
      "\n",
      "{'subject': 'He', 'relation': 'is', 'object': 'character'} 0.397587340631764\n",
      "\n",
      "{'subject': 'He', 'relation': 'is important character in', 'object': 'Star Wars'} 0.740859398443302\n",
      "\n",
      "{'subject': 'He', 'relation': 'is character in', 'object': 'Star Wars'} 0.7120834775635374\n",
      "\n",
      "{'subject': 'He', 'relation': 'is', 'object': 'important character'} 0.45404559298800296\n",
      "\n",
      "{'subject': '100 Heroes Villains', 'relation': 'citing his motivations for good before', 'object': 'his fall side'} 0.7172256946490423\n",
      "\n",
      "{'subject': '100 Heroes Villains', 'relation': 'citing his motivations before', 'object': 'his fall dark side'} 0.7303567739911757\n",
      "\n",
      "{'subject': '100 Heroes Villains', 'relation': 'citing', 'object': 'his motivations for good'} 0.6938695033331453\n",
      "\n",
      "{'subject': 'Jedi', 'relation': 'bring', 'object': 'balance'} 0.4695092180561265\n",
      "\n",
      "{'subject': 'third greatest movie villain', 'relation': 'is in', 'object': 'cinema history'} 0.6256695655022168\n",
      "\n",
      "{'subject': 'Jedi', 'relation': 'bring balance to', 'object': 'Force'} 0.5263622841269582\n",
      "\n",
      "{'subject': '100 Heroes Villains', 'relation': 'citing', 'object': 'his motivations'} 0.6802943371828266\n",
      "\n",
      "{'subject': '100 Heroes Villains', 'relation': 'citing', 'object': 'his original motivations for greater good'} 0.7229701114137119\n",
      "\n",
      "{'subject': '100 Heroes Villains', 'relation': 'citing his motivations for greater good before', 'object': 'his fall side'} 0.7365658345360001\n",
      "\n",
      "{'subject': 'he', 'relation': 'been listed among', 'object': 'greatest villains'} 0.5798152783136657\n",
      "\n",
      "{'subject': 'critics', 'relation': 'consider', 'object': 'him tragic hero'} 0.5226124328656636\n",
      "\n",
      "{'subject': '100 Heroes Villains', 'relation': 'citing', 'object': 'his motivations for greater good'} 0.7188038191596414\n",
      "\n",
      "{'subject': 'He', 'relation': 'is also father of', 'object': 'Luke Skywalker'} 0.7115160521613202\n",
      "\n",
      "{'subject': '100 Heroes Villains', 'relation': 'citing his motivations for good before', 'object': 'his fall'} 0.7358218953565958\n",
      "\n",
      "{'subject': '100 Heroes Villains', 'relation': 'citing his original motivations for greater good before', 'object': 'his fall'} 0.757846016234443\n",
      "\n",
      "{'subject': '100 Heroes Villains', 'relation': 'citing his motivations before', 'object': 'his fall side'} 0.7110516591656186\n",
      "\n",
      "{'subject': '100 Heroes Villains', 'relation': 'citing his original motivations for good before', 'object': 'his fall'} 0.7360763219102716\n",
      "\n",
      "{'subject': '100 Heroes Villains', 'relation': 'citing his motivations before', 'object': 'his fall'} 0.7274654717040453\n",
      "\n",
      "{'subject': 'He', 'relation': 'is', 'object': 'also father'} 0.38506211267400275\n",
      "\n",
      "{'subject': 'American Film Institute', 'relation': 'listed Hannibal Lecter as', 'object': 'movie villain'} 0.7054899846559\n",
      "\n",
      "{'subject': 'American Film Institute', 'relation': 'listed Hannibal Lecter on', 'object': '100 Years'} 0.7069780679645201\n",
      "\n",
      "{'subject': 'American Film Institute', 'relation': 'listed Hannibal Lecter as', 'object': 'third greatest movie villain'} 0.7543858050244615\n",
      "\n",
      "{'subject': 'American Film Institute', 'relation': 'listed', 'object': 'Hannibal Lecter'} 0.6981254149759445\n",
      "\n",
      "{'subject': 'He', 'relation': 'is father of', 'object': 'Luke Skywalker'} 0.6810931400794982\n",
      "\n",
      "{'subject': 'American Film Institute', 'relation': 'listed Hannibal Lecter as', 'object': 'movie villain in cinema history'} 0.7778991625688416\n",
      "\n",
      "{'subject': 'American Film Institute', 'relation': 'listed Hannibal Lecter as', 'object': 'third movie villain in cinema history'} 0.7894847554575176\n",
      "\n",
      "{'subject': 'American Film Institute', 'relation': 'listed Hannibal Lecter as', 'object': 'third greatest movie villain in cinema history'} 0.8029750701093411\n",
      "\n",
      "{'subject': '100 Heroes Villains', 'relation': 'citing his motivations for good before', 'object': 'his fall dark side'} 0.7281180135789053\n",
      "\n",
      "{'subject': '100 Heroes Villains', 'relation': 'citing his original motivations for good before', 'object': 'his fall side'} 0.7184728697994206\n",
      "\n",
      "{'subject': 'he', 'relation': 'been listed among', 'object': 'villains'} 0.46128953324010163\n",
      "\n",
      "{'subject': 'American Film Institute', 'relation': 'listed Hannibal Lecter as', 'object': 'greatest movie villain in cinema history'} 0.7917110263370477\n",
      "\n",
      "{'subject': 'American Film Institute', 'relation': 'listed', 'object': '100 Heroes'} 0.6051722978518851\n",
      "\n",
      "{'subject': 'other critics', 'relation': 'consider', 'object': 'him tragic hero'} 0.5476185253392566\n",
      "\n",
      "{'subject': 'American Film Institute', 'relation': 'listed', 'object': 'Hannibal Lecter However'} 0.6808957915474911\n",
      "\n",
      "{'subject': 'American Film Institute', 'relation': 'listed Hannibal Lecter as', 'object': 'third movie villain'} 0.705508214422553\n",
      "\n",
      "{'subject': 'his', 'relation': 'master', 'object': 'Emperor Palpatine .4'} 0.6026036083177677\n",
      "\n",
      "{'subject': 'he', 'relation': 'been', 'object': 'listed'} 0.37129967705055106\n",
      "\n",
      "{'subject': '100 Heroes Villains', 'relation': 'citing his motivations for greater good before', 'object': 'his fall'} 0.7568537277583156\n",
      "\n"
     ]
    },
    {
     "name": "stdout",
     "output_type": "stream",
     "text": [
      "{'subject': '100 Heroes Villains', 'relation': 'citing his original motivations for greater good before', 'object': 'his fall side'} 0.7441029364951708\n",
      "\n",
      "{'subject': '100 Heroes Villains', 'relation': 'citing his original motivations before', 'object': 'his fall side'} 0.716831684026373\n",
      "\n",
      "{'subject': '100 Heroes Villains', 'relation': 'citing his original motivations before', 'object': 'his fall dark side'} 0.732535583795387\n",
      "\n",
      "{'subject': '100 Heroes Villains', 'relation': 'citing his original motivations for good before', 'object': 'his fall dark side'} 0.7323033631627923\n",
      "\n",
      "{'subject': 'He', 'relation': 'is', 'object': 'father'} 0.3904485663537688\n",
      "\n",
      "{'subject': '100 Heroes Villains', 'relation': 'citing his original motivations for greater good before', 'object': 'his fall dark side'} 0.7531449367336372\n",
      "\n",
      "{'subject': 'American Film Institute', 'relation': 'listed Hannibal Lecter as', 'object': 'greatest movie villain'} 0.7411301725763856\n",
      "\n",
      "{'subject': '100 Heroes Villains', 'relation': 'citing his original motivations before', 'object': 'his fall'} 0.73012780747217\n",
      "\n",
      "{'subject': '100 Heroes Villains', 'relation': 'citing his motivations for greater good before', 'object': 'his fall dark side'} 0.7514851850304176\n",
      "\n",
      "{'subject': 'iconic villains', 'relation': 'is in', 'object': 'popular culture'} 0.6388469093958004\n",
      "\n",
      "{'subject': 'critics', 'relation': 'consider', 'object': 'him hero'} 0.47798322891242234\n",
      "\n",
      "{'subject': '100 Heroes Villains', 'relation': 'citing', 'object': 'his original motivations for good'} 0.6926821363741724\n",
      "\n",
      "{'subject': '100 Heroes Villains', 'relation': 'citing', 'object': 'his original motivations'} 0.6863605264439058\n",
      "\n",
      "{'subject': 'other critics', 'relation': 'consider', 'object': 'him hero'} 0.49733056015032584\n",
      "\n"
     ]
    }
   ],
   "source": [
    "triples_filtered = []\n",
    "threshold = 0.50\n",
    "for triple in triples:\n",
    "    statement = ' '.join(x for x in triple.values())\n",
    "    similarity = article_enc.similarity(nlp(statement))\n",
    "    if similarity > threshold:\n",
    "        triples_filtered.append(triple)\n",
    "    print(triple, similarity)\n",
    "    print()"
   ]
  },
  {
   "cell_type": "code",
   "execution_count": 23,
   "metadata": {},
   "outputs": [
    {
     "name": "stdout",
     "output_type": "stream",
     "text": [
      "89 73\n"
     ]
    }
   ],
   "source": [
    "print(len(triples), len(triples_filtered))"
   ]
  },
  {
   "cell_type": "markdown",
   "metadata": {},
   "source": [
    "# KG Creation & Exploration"
   ]
  },
  {
   "cell_type": "code",
   "execution_count": 24,
   "metadata": {},
   "outputs": [],
   "source": [
    "import rdflib"
   ]
  },
  {
   "cell_type": "code",
   "execution_count": 25,
   "metadata": {},
   "outputs": [],
   "source": [
    "starwars_graph = rdflib.Graph()"
   ]
  },
  {
   "cell_type": "code",
   "execution_count": 26,
   "metadata": {},
   "outputs": [],
   "source": [
    "for triple in triples_filtered:\n",
    "    starwars_graph.add((\n",
    "        rdflib.Literal(triple['subject'], datatype=rdflib.namespace.XSD.string),\n",
    "        rdflib.Literal(triple['relation'], datatype=rdflib.namespace.XSD.string),\n",
    "        rdflib.Literal(triple['object'], datatype=rdflib.namespace.XSD.string)\n",
    "    ))"
   ]
  },
  {
   "cell_type": "code",
   "execution_count": 27,
   "metadata": {},
   "outputs": [
    {
     "name": "stdout",
     "output_type": "stream",
     "text": [
      "Darth Vader -> also known by -> his birth name Anakin Skywalker\n",
      "his character -> is heavily referenced in -> Star Wars\n",
      "Vader -> appears as -> pivotal antagonist\n",
      "100 Heroes Villains -> citing his original motivations for greater good before -> his fall side\n",
      "his past -> are central to -> narrative of prequel trilogy.\n",
      "100 Heroes Villains -> citing his original motivations for good before -> his fall\n",
      "He -> is also father of -> Luke Skywalker\n",
      "Vader -> appears as -> antagonist\n",
      "His appearances -> span -> six Star Wars films\n",
      "100 Heroes Villains -> citing his motivations for greater good before -> his fall\n",
      "100 Heroes Villains -> citing his original motivations before -> his fall dark side\n",
      "100 Heroes Villains -> citing his original motivations for good before -> his fall side\n",
      "100 Heroes Villains -> citing his motivations for greater good before -> his fall side\n",
      "third greatest movie villain -> is in -> cinema history\n",
      "He -> is father of -> Luke Skywalker\n",
      ".123 Vader -> appears in -> original film trilogy\n",
      "100 Heroes Villains -> citing his original motivations before -> his fall\n",
      "he -> been listed among -> greatest villains\n",
      "Darth Vader -> is -> fictional character\n",
      "100 Heroes Villains -> citing his motivations for good before -> his fall dark side\n",
      "character -> was created by -> George Lucas\n",
      "He -> is also character in -> Star Wars\n",
      "100 Heroes Villains -> citing his original motivations for greater good before -> his fall dark side\n",
      "American Film Institute -> listed Hannibal Lecter as -> movie villain\n",
      "100 Heroes Villains -> citing -> his original motivations for good\n",
      ".123 Vader -> appears in -> film trilogy\n",
      "American Film Institute -> listed Hannibal Lecter as -> greatest movie villain\n",
      ".123 Vader -> appears as -> antagonist\n",
      "100 Heroes Villains -> citing his motivations for good before -> his fall\n",
      "American Film Institute -> listed Hannibal Lecter as -> third movie villain\n",
      "100 Heroes Villains -> citing his original motivations for greater good before -> his fall\n",
      "American Film Institute -> listed -> Hannibal Lecter\n",
      "100 Heroes Villains -> citing his motivations for greater good before -> his fall dark side\n",
      "100 Heroes Villains -> citing his motivations before -> his fall\n",
      "his character -> is -> heavily referenced\n",
      "American Film Institute -> listed Hannibal Lecter as -> third greatest movie villain in cinema history\n",
      "American Film Institute -> listed Hannibal Lecter as -> third greatest movie villain\n",
      "100 Heroes Villains -> citing his motivations before -> his fall side\n",
      "character -> been portrayed by -> numerous actors\n",
      "His appearances -> span -> Rogue One\n",
      "100 Heroes Villains -> citing -> his motivations for greater good\n",
      "critics -> consider -> him tragic hero\n",
      "fictional character -> is in -> Star Wars franchise\n",
      "Vader -> appears in -> film trilogy\n",
      "important character -> is in -> Star Wars\n",
      "American Film Institute -> listed -> Hannibal Lecter However\n",
      "character -> been portrayed by -> actors\n",
      "Darth Vader -> known by -> his birth name Anakin Skywalker\n",
      "His appearances -> span -> first six Star Wars films\n",
      "100 Heroes Villains -> citing -> his motivations for good\n",
      "He -> is important character in -> Star Wars\n",
      "100 Heroes Villains -> citing -> his original motivations\n",
      "100 Heroes Villains -> citing -> his motivations\n",
      "other critics -> consider -> him tragic hero\n",
      "American Film Institute -> listed Hannibal Lecter as -> movie villain in cinema history\n",
      "American Film Institute -> listed Hannibal Lecter on -> 100 Years\n",
      "He -> is character in -> Star Wars\n",
      "American Film Institute -> listed Hannibal Lecter as -> greatest movie villain in cinema history\n",
      "Jedi -> bring balance to -> Force\n",
      ".123 Vader -> appears as -> pivotal antagonist\n",
      "100 Heroes Villains -> citing his motivations before -> his fall dark side\n",
      "100 Heroes Villains -> citing his original motivations before -> his fall side\n",
      "American Film Institute -> listed -> 100 Heroes\n",
      "100 Heroes Villains -> citing -> his original motivations for greater good\n",
      "Vader -> appears in -> original film trilogy\n",
      "his character -> is referenced in -> Star Wars\n",
      "100 Heroes Villains -> citing his original motivations for good before -> his fall dark side\n",
      "his past -> are central to -> narrative\n",
      "Darth Vader -> is fictional character in -> Star Wars franchise\n",
      "his -> master -> Emperor Palpatine .4\n",
      "American Film Institute -> listed Hannibal Lecter as -> third movie villain in cinema history\n",
      "iconic villains -> is in -> popular culture\n",
      "100 Heroes Villains -> citing his motivations for good before -> his fall side\n"
     ]
    }
   ],
   "source": [
    "for s, p, o in starwars_graph:\n",
    "    print(s, '->', p, '->', o)"
   ]
  },
  {
   "cell_type": "markdown",
   "metadata": {},
   "source": [
    "Sample queries:"
   ]
  },
  {
   "cell_type": "code",
   "execution_count": 28,
   "metadata": {},
   "outputs": [
    {
     "name": "stdout",
     "output_type": "stream",
     "text": [
      "Darth Vader -> also known by -> his birth name Anakin Skywalker\n",
      "Darth Vader -> is -> fictional character\n",
      "Darth Vader -> known by -> his birth name Anakin Skywalker\n",
      "Darth Vader -> is fictional character in -> Star Wars franchise\n"
     ]
    }
   ],
   "source": [
    "query_str = \"\"\"\n",
    "    SELECT ?s ?p ?o\n",
    "    WHERE {   \n",
    "        ?s ?p ?o.\n",
    "        FILTER(?s='Darth Vader')\n",
    "    }\n",
    "\"\"\"\n",
    "\n",
    "res = starwars_graph.query(query_str)\n",
    "for s,p,o in res:\n",
    "    print(s, '->', p, '->', o)"
   ]
  },
  {
   "cell_type": "code",
   "execution_count": 29,
   "metadata": {},
   "outputs": [
    {
     "name": "stdout",
     "output_type": "stream",
     "text": [
      "Vader -> appears as -> pivotal antagonist\n",
      "Vader -> appears as -> antagonist\n",
      "Vader -> appears in -> film trilogy\n",
      "Vader -> appears in -> original film trilogy\n"
     ]
    }
   ],
   "source": [
    "query_str = \"\"\"\n",
    "    SELECT ?s ?p ?o\n",
    "    WHERE {   \n",
    "        ?s ?p ?o.\n",
    "        FILTER(?s='Vader')\n",
    "    }\n",
    "\"\"\"\n",
    "\n",
    "res = starwars_graph.query(query_str)\n",
    "for s,p,o in res:\n",
    "    print(s, '->', p, '->', o)"
   ]
  },
  {
   "cell_type": "code",
   "execution_count": 30,
   "metadata": {},
   "outputs": [
    {
     "name": "stdout",
     "output_type": "stream",
     "text": [
      "He -> is also father of -> Luke Skywalker\n",
      "He -> is father of -> Luke Skywalker\n",
      "He -> is also character in -> Star Wars\n",
      "He -> is important character in -> Star Wars\n",
      "He -> is character in -> Star Wars\n"
     ]
    }
   ],
   "source": [
    "query_str = \"\"\"\n",
    "    SELECT ?s ?p ?o\n",
    "    WHERE {   \n",
    "        ?s ?p ?o.\n",
    "        FILTER(?s='He')\n",
    "    }\n",
    "\"\"\"\n",
    "res = starwars_graph.query(query_str)\n",
    "\n",
    "for s,p,o in res:\n",
    "    print(s, '->', p, '->', o)"
   ]
  },
  {
   "cell_type": "markdown",
   "metadata": {},
   "source": [
    "### TODO: Need to \"contexualize\" key entities that group together \"He\" and \"Darth Vader\" for example"
   ]
  },
  {
   "cell_type": "markdown",
   "metadata": {},
   "source": [
    "# starwars.ttl Exploration"
   ]
  },
  {
   "cell_type": "code",
   "execution_count": 31,
   "metadata": {},
   "outputs": [
    {
     "data": {
      "text/plain": [
       "<Graph identifier=Nbdcd64e68f004f6ca1674bf5c1961216 (<class 'rdflib.graph.Graph'>)>"
      ]
     },
     "execution_count": 31,
     "metadata": {},
     "output_type": "execute_result"
    }
   ],
   "source": [
    "graph = rdflib.Graph()\n",
    "graph.parse('../data/starwars.ttl', format='turtle')"
   ]
  },
  {
   "cell_type": "code",
   "execution_count": 32,
   "metadata": {},
   "outputs": [
    {
     "name": "stdout",
     "output_type": "stream",
     "text": [
      "Darth Vader -> also known by -> his birth name Anakin Skywalker\n",
      "his character -> is heavily referenced in -> Star Wars\n",
      "Vader -> appears as -> pivotal antagonist\n",
      "100 Heroes Villains -> citing his original motivations for greater good before -> his fall side\n",
      "his past -> are central to -> narrative of prequel trilogy.\n",
      "100 Heroes Villains -> citing his original motivations for good before -> his fall\n",
      "He -> is also father of -> Luke Skywalker\n",
      "Vader -> appears as -> antagonist\n",
      "His appearances -> span -> six Star Wars films\n",
      "100 Heroes Villains -> citing his motivations for greater good before -> his fall\n"
     ]
    }
   ],
   "source": [
    "query_str = \"\"\"\n",
    "    SELECT ?s ?p ?o\n",
    "    WHERE {   \n",
    "        ?s ?p ?o.\n",
    "    }\n",
    "    LIMIT 10\n",
    "\"\"\"\n",
    "res = starwars_graph.query(query_str)\n",
    "\n",
    "for s,p,o in res:\n",
    "    print(s, '->', p, '->', o)"
   ]
  },
  {
   "cell_type": "markdown",
   "metadata": {},
   "source": [
    "# Parse articles from Wikipedia and construct KG"
   ]
  },
  {
   "cell_type": "markdown",
   "metadata": {},
   "source": [
    "https://stackabuse.com/getting-started-with-pythons-wikipedia-api/"
   ]
  },
  {
   "cell_type": "code",
   "execution_count": 127,
   "metadata": {},
   "outputs": [],
   "source": [
    "import wikipedia"
   ]
  },
  {
   "cell_type": "code",
   "execution_count": 133,
   "metadata": {},
   "outputs": [
    {
     "data": {
      "text/plain": [
       "['Millennium Falcon',\n",
       " 'Star Wars: Millennium Falcon – Smugglers Run',\n",
       " 'Millennium Falcon (novel)',\n",
       " 'Chewbacca',\n",
       " 'Falcon 9',\n",
       " 'Berserk: Millennium Falcon Hen Seima Senki no Shō',\n",
       " 'Lando Calrissian',\n",
       " 'Solo: A Star Wars Story',\n",
       " 'Han Solo',\n",
       " \"Star Wars: Galaxy's Edge\"]"
      ]
     },
     "execution_count": 133,
     "metadata": {},
     "output_type": "execute_result"
    }
   ],
   "source": [
    "wikipedia.search('Millennium Falcon')"
   ]
  },
  {
   "cell_type": "code",
   "execution_count": 134,
   "metadata": {},
   "outputs": [
    {
     "data": {
      "text/plain": [
       "\"The Millennium Falcon is a fictional starship in the Star Wars franchise. Designed by Joe Johnston for the movie Star Wars (1977), it has subsequently appeared in The Star Wars Holiday Special (1978), The Empire Strikes Back (1980), Return of the Jedi (1983), The Force Awakens (2015), The Last Jedi (2017), Solo: A Star Wars Story (2018), and The Rise of Skywalker (2019). The starship, or a similar one, also has a cameo in Revenge of the Sith (2005). Additionally, the Falcon appears in a variety of Star Wars expanded universe materials, including books, comics, and games; James Luceno's novel Millennium Falcon focuses on the titular ship. It also appears in the 2014 animated film The Lego Movie in Lego form, with Billy Dee Williams and Anthony Daniels reprising their roles of Lando Calrissian and C-3PO, and Keith Ferguson voicing Han Solo.\\nSolo: A Star Wars Story depicts the YT-1300 Corellian light freighter being embodied by L3-37 (Phoebe Waller-Bridge). The ship is primarily commanded by smuggler Han Solo (Harrison Ford and Alden Ehrenreich) and his Wookiee first mate, Chewbacca (Peter Mayhew and Joonas Suotamo), and was previously owned by gambler con-artist Lando Calrissian (Billy Dee Williams and Donald Glover). Described as being one of the fastest vessels in the Star Wars canon, the Falcon looks like a worn-out junker, but despite its humble origins and shabby exterior, the Millennium Falcon has played a critical role in some of the greatest victories of the Rebel Alliance and the New Republic.\\n\\n\""
      ]
     },
     "execution_count": 134,
     "metadata": {},
     "output_type": "execute_result"
    }
   ],
   "source": [
    "wikipedia.summary('Millennium Falcon')"
   ]
  },
  {
   "cell_type": "code",
   "execution_count": 136,
   "metadata": {},
   "outputs": [
    {
     "data": {
      "text/plain": [
       "'The Millennium Falcon is a fictional starship in the Star Wars franchise. Designed by Joe Johnston for the movie Star Wars (1977), it has subsequently appeared in The Star Wars Holiday Special (1978), The Empire Strikes Back (1980), Return of the Jedi (1983), The Force Awakens (2015), The Last Jedi (2017), Solo: A Star Wars Story (2018), and The Rise of Skywalker (2019). The starship, or a similar one, also has a cameo in Revenge of the Sith (2005). Additionally, the Falcon appears in a variety of Star Wars expanded universe materials, including books, comics, and games; James Luceno\\'s novel Millennium Falcon focuses on the titular ship. It also appears in the 2014 animated film The Lego Movie in Lego form, with Billy Dee Williams and Anthony Daniels reprising their roles of Lando Calrissian and C-3PO, and Keith Ferguson voicing Han Solo.\\nSolo: A Star Wars Story depicts the YT-1300 Corellian light freighter being embodied by L3-37 (Phoebe Waller-Bridge). The ship is primarily commanded by smuggler Han Solo (Harrison Ford and Alden Ehrenreich) and his Wookiee first mate, Chewbacca (Peter Mayhew and Joonas Suotamo), and was previously owned by gambler con-artist Lando Calrissian (Billy Dee Williams and Donald Glover). Described as being one of the fastest vessels in the Star Wars canon, the Falcon looks like a worn-out junker, but despite its humble origins and shabby exterior, the Millennium Falcon has played a critical role in some of the greatest victories of the Rebel Alliance and the New Republic.\\n\\n\\n== Origin and design ==\\nThe ship originally had a more elongated appearance, but this design\\'s similarity to the Eagle Transporters in Space: 1999 prompted Lucas to change the Falcon\\'s design. The original model was modified, re-scaled, and used as Princess Leia\\'s ship, Tantive IV. Modelmaker Joe Johnston had about four weeks to redesign the Falcon, and Lucas\\' only suggestion to Johnston was to \"think of a flying saucer\". Johnston did not want to produce a \"basic flying saucer\", so he created the offset cockpit, forward cargo mandibles, and rear slot for the engines. It was also said that the shape of the ship was roughly based on a hamburger with an olive-on-the-side cockpit. The design was simple enough to create in the four-week window. Johnston called production of the new Falcon design one of his most intense projects.The sound of the ship traveling through hyperspace comes from two tracks of the engine noise of a McDonnell Douglas DC-9, with one track slightly out of synchronization with the other to introduce a phasing effect. To this, sound designer Ben Burtt added the hum of the cooling fans on the motion-control rig at Industrial Light & Magic (ILM).\\n\\n\\n=== Models and sets ===\\n\\nVisually, the Millennium Falcon was represented by several models and external and internal sets. For Star Wars, a partial exterior set was constructed and the set dressed as Mos Eisley\\'s Docking Bay 94 and the Death Star hangar. Besides the functional landing gear, an additional support held up the structure and was disguised as a fuel line. The interior set included the starboard ring corridor, the boarding ramp, cockpit access tunnel, gun turret ladder, secret compartments, and the forward hold. The cockpit was constructed as a separate set that could be rocked when the ship was supposed to shake. Several inconsistencies exist between the internal set and the external set, the cockpit access tunnel angle being the most noticeable.\\nThe effects models for Star Wars matched the design of the exterior set. The primary model was five feet long and detailed with various kit parts. The ship was represented by a matte painting when Princess Leia (Carrie Fisher) sees it for the first time, showing the full upper surface. For the 1997 \"Special Edition\", a digital model replaces the effects model in several shots, and is used in a new shot of the Falcon lifting off from Docking Bay 94.For The Empire Strikes Back, a new external set was constructed. In spring 1979, Marcon Fabrications, a heavy engineering firm that served the UK\\'s petrochemical and oil industries, was hired to build a movable full-scale external model capable of \"moving as if it were about to take off.\" Built in secrecy under the project code name Magic Roundabout, the company leased the 1930s Western Sunderland Flying Boat hangar in Pembroke Dock, West Wales. The model, which took three months to construct, weighed over 25 long tons (25 t), measured 65 feet (20 m) in diameter and 20 feet (6.1 m) high, and used compressed air hover pads for up to 1.5 inches (38 mm) of hover-height movement around the set. It was then disassembled and shipped to Elstree Studios, Hertfordshire, for filming. Today, the Pembroke Dock museum has an exhibit about the project.Along with the full-size mock-up of the Falcon, a new miniature model was created for Star Wars: Episode V – The Empire Strikes Back to allow ILM to film more intricate in-flight rolls and pitches that were not possible with the five-foot model. This model was able to be mounted on a gimbal that allowed ILM to simulate very difficult maneuvers as the ship attempted to outrun Imperial TIE fighters during the asteroid-field-escape scene from the film. The new model, which measured at approximately 32 inches in length, had several surface features that differed from the five-foot model including updated landing gear and different surface greebles. The 32\" model was the version of the Millennium Falcon most depicted in toys, model kits, and promotional materials for the Star Wars universe prior to the release of The Force Awakens. The model was reused for Star Wars: Episode VI – Return of the Jedi. At the end of this production, the model was destroyed.As in Star Wars, the location set was changed around the ship set. The only major design change was to add landing gear where the disguised fuel line had been in Star Wars. As this set included the port side, that gave the set seven landing gears. The internal set was slightly refitted from A New Hope and featured a sliding cockpit door, a larger cargo hold, an additional corridor to port, and an equipment room. The cockpit was rebuilt slightly larger to allow more actors to fit comfortably; shots were apparently slightly cropped in later releases of the film to hide this alteration. Two new interior sets were created that are not shown to connect to the rest of the set: a top hatch that Lando Calrissian (Billy Dee Williams) uses to rescue Luke Skywalker (Mark Hamill), and the compartment where Luke rests on a bunk.\\nThe 5-foot-long (1.5 m) effects model from Star Wars was modified to reflect the additional landing gear, and several new models were built, including one roughly the size of a U.S. Quarter Dollar. For the 1997 Special Edition, a CGI model replaced the effects model during the approach and landing on Cloud City.\\nNo new models or sets were created for Return of the Jedi. A portion of the full-scale ship was used for a scene cut from the film in which several characters board the Falcon in a sandstorm on Tatooine. In the scene when Han exacts a promise from Lando not to damage the Falcon, the Falcon is represented by a backdrop painting. It is also in a matte painting of the entire hangar bay.\\nThe internal and external sets were scrapped after filming on Return of the Jedi ended. The effects models were kept by Lucasfilm and some have been on display from time to time.\\nA digital version of the Falcon appears briefly on Coruscant in Revenge of the Sith (2005). Lucas has confirmed that the ship is the Falcon and not another ship of similar design. A CGI version of the vessel also appears in the Disney attraction Star Tours: The Adventures Continue.\\nOn June 3, 2014, TMZ confirmed that the Falcon would return for Star Wars: The Force Awakens when it leaked a photo from the set of the film, showing a full-scale version of the Falcon being built. An effects shot of the Falcon appears in the teaser trailer for The Force Awakens, released on November 28, 2014. This version of the ship is a digital recreation of the original 1977 five-foot model, with additional detailing reflecting the passage of time. The most noticeable change is the rectangular sensor array above the top hull, which replaces the circular dish from the first three films. \\n\\n\\n== Depiction ==\\n“You came in that thing? You’re braver than I thought.”\\nHan Solo won the Millennium Falcon from Lando Calrissian in the card game \\'sabacc\\' several years before the events of the film A New Hope. In Star Wars, Obi-Wan Kenobi (Alec Guinness) and Luke Skywalker\\n(Mark Hamill) charter the ship in the Mos Eisley cantina to deliver them, C-3PO (Anthony Daniels), R2-D2 (Kenny Baker), and the stolen Death Star plans to Alderaan. When the Falcon is captured by the Death Star, the group conceal themselves in smuggling compartments built into the floor to avoid detection during a search of the ship. Solo later collects his fee for delivering them to the hidden Rebel base and departs under bitter circumstances, but returns to assist Luke in destroying the Death Star.\\nSolo pilots the Falcon, with Chewbacca, Leia, and C-3PO aboard, to elude the Imperial Starfleet in The Empire Strikes Back, wherein they take refuge at Cloud City, where Darth Vader (David Prowse/James Earl Jones) captures Solo. Lando Calrissian helps the others escape and, at the film\\'s end, he departs in the Falcon to track down Solo and his captor, Jabba the Hutt. Calrissian again captains the Falcon during the climax of Return of the Jedi, with Nien Nunb as co-pilot, to destroy the second Death Star. Before the second Death Star is destroyed, Lando accidentally damages the ship by hitting the circular sensor rectenna dish on a random pipe or circuit in the second Death Star. Lando and the others still have success in destroying the Galactic Empire.\\nIn Star Wars: The Force Awakens, set some 30 years after Return of the Jedi, the Falcon is in the possession of a scrap dealer named Unkar Plutt on the desert planet Jakku, having been stolen from Solo and Chewbacca some years prior. Scavenger Rey (Daisy Ridley) and former stormtrooper Finn (John Boyega) steal the Falcon in order to escape from an attack by the First Order, having been targeted for having the droid BB-8 in their possession. They are captured by a smuggling freighter, which turns out to be piloted by Solo and Chewbacca, who reclaim the Falcon. Forced to escape in the Falcon from an ambush by parties to whom Solo is heavily in debt, Solo reluctantly agrees to help Rey and Finn return BB-8 to the Resistance. After Rey is captured by the First Order, Solo agrees to take Finn in the Falcon to the First Order\\'s new Starkiller Base—a planet that has been converted into the next generation of \\'Death Star\\'—by attempting a risky maneuver of bypassing the planet\\'s defences by exiting hyperspace in its atmosphere. When Solo is killed by his son, the rebels escape the destructing Starkiller Base. Later, Rey uses a newly-assembled map to travel to Ahch-To, the site of the first Jedi temple, to make contact with the long-lost Luke Skywalker, travelling in the Falcon in the company of Chewbacca and R2-D2.\\nThe Falcon appears again in Star Wars: The Last Jedi, still on Ahch-To with Rey and Chewbacca. Later in the film, Chewbacca and Rey take the Falcon to the planet Crait, where the Resistance is under attack by the First Order. The Falcon loses its sensor dish for the third time on Crait, after it is shot off by a TIE fighter, but still manages to single-handedly take out most of the First Order\\'s fighters on the planet while Luke distracts Kylo Ren. After the battle, surviving Resistance personnel leave Crait aboard the Falcon.\\nIn The Last Jedi, Rey uses the Falcon\\'s escape pod to board Supreme Leader Snoke\\'s ship. Director Rian Johnson noted that he wanted its design to resemble a coffin, inspired by C.S. Lewis\\' Perelandra. The escape pod was monogrammed to say \"Property of Han Solo\". In the film Solo: A Star Wars Story, it is revealed that Lando modified the Falcon by putting an escape pod between the frontal \\'mandibles\\', which Han jettisons to escape a gravity well.\\n\\n\\n=== Kessel Run ===\\n“Fast ship? You\\'ve never heard of the Millennium Falcon? It\\'s the ship that made the Kessel Run in less than twelve parsecs. I\\'ve outrun Imperial starships. Not the local bulk cruisers mind you, I\\'m talking about the big Corellian ships now... She\\'ll make point five past lightspeed. She may not look like much, but she\\'s got it where it counts, kid. I\\'ve made a lot of special modifications myself.”\\nIn the initial film, Solo brags that the Falcon \"made the Kessel Run in less than twelve parsecs\". As the parsec is a unit of distance, not time, different explanations have been provided. In the fourth draft of the script, Kenobi \"reacts to Solo\\'s stupid attempt to impress them with obvious misinformation.\" Lucas acknowledged the misnomer in 1977, saying that Han modified \"the navigational system to get through hyperspace in the shortest possible distance\". On the film\\'s DVD audio commentary, Lucas further explained that in the Star Wars universe, traveling through hyperspace requires careful navigation to avoid stars, planets, asteroids, and other obstacles, and that is because no long-distance journey can be made in a straight line, the \"fastest\" ship is the one that can plot the \"most direct course\", thereby traveling the least distance.In The Force Awakens, Rey references the Kessel Run but describes it as being completed in fourteen parsecs, after which Solo corrects her.\\nIn Solo: A Star Wars Story, Solo\\'s Kessel Run is depicted in detail, providing an explanation for the \"twelve parsec\" boast. Solo has to make many calculated jumps to avoid killing the crew. After integrating the memory module of Lando\\'s damaged L3 droid into the ship\\'s navigation, Solo is able to take a \"shortcut\" (which is dangerously close to a black hole). Chewbacca indicates the real distance was closer to 13 parsecs, but Solo insists, \"Not if you round down,\" implying that the claim of \"less than twelve parsecs\" is slightly exaggerated.\\n\\n\\n=== Ownership ===\\nThe Falcon has been depicted many times in the franchise, and its ownership and command have changed several times.\\n\\nPrior to Star Wars, the Falcon was in the possession of Lando Calrissian. He lost it to Han Solo in payment of a gambling debt.  This is depicted in Solo: A Star Wars Story, as well as the integration of Lando\\'s droid L3-37 with the ship\\'s computer.\\nAfter the events of The Empire Strikes Back, Leia, Chewbacca and Lando take possession of the Falcon after Solo\\'s hibernation in carbonite and capture by the Empire and Boba Fett.\\nDuring Return of the Jedi, Solo leaves Tatooine aboard the Millennium Falcon, and on arrival at the rendezvous for the Rebel fleet he lends the Falcon to Calrissian, who pilots it during the Battle of Endor and the destruction of the second Death Star.\\nAfter the events of Return of the Jedi, the Falcon is stolen from Solo, ending up on the planet Jakku under the ownership of a scrap dealer, Unkar Plutt, 30 years after the Battle of Endor. In The Force Awakens, Rey and Finn commandeer the ship to escape the planet, only to be found by Solo and Chewbacca, who immediately reclaim the ship.\\nAfter the death of Solo, Rey pilots the Falcon, with Chewbacca as her co-pilot. The novelization of The Force Awakens states that Chewbacca willingly abdicates captaincy of the Falcon to Rey.\\nAfter the events of The Last Jedi, the ship becomes the base of operations for the remaining members of the Resistance.\\nAfter the events of The Rise of Skywalker the Falcon is again piloted by Lando Calrissian with Chewbacca.\\n\\n\\n== Cultural influence ==\\nJoss Whedon credits the Millennium Falcon as one of his two primary inspirations for his Firefly television show. The Falcon and the Falcon\\'s distinct shape appear in Star Trek: First Contact, Blade Runner, Spaceballs, and Starship Troopers. The manga series Berserk includes a Millennium Falcon arc.SpaceX states that their launch vehicles (except Starship) are named after the Millennium Falcon.\\n\\n\\n=== Biology ===\\nThe middle Cambrian arthropod Cambroraster falcatus is named after the Millennium Falcon \\n\\n\\n=== Toys ===\\n\\nKenner, Hasbro, Steel Tec, Master Replicas, Code 3 Collectibles and Micro Machines have all released Millennium Falcon toys and puzzles, including a Transformers version of the ship.\\nHot Wheels has made a model of the ship for their Star Wars starship line and a version of it as a car. It is also available as a Hot Wheels playset.Lego has released multiple versions of the Millennium Falcon in varying sizes. The 5,195-piece Lego model (part of the Star Wars \"Ultimate Collectors Series\") was physically the largest Lego set sold by the company, until it was topped in 2008 by the Lego Taj Mahal. In September 2017, Lego released an updated Millennium Falcon set in the Star Wars \"Ultimate Collectors Series\".  With the new interior and more details compared to the 2007 model, the 7,541-piece model is the largest and most expensive commercially available Lego set. Lego has also made a version of the Falcon to tie in with the Star Wars film, Solo. It is called the Kessel Run Millennium Falcon.\\n\\n\\n== Theme park attractions ==\\n\\nOn May 31, 2019, a full sized replica of the Falcon was opened to the public along with the rest of Star Wars: Galaxy\\'s Edge at the Disneyland Resort in Anaheim, California, along with a flight simulator attraction,  Millennium Falcon: Smugglers Run, in which riders take control of the Falcon from inside the iconic cockpit. An identical version of the attraction opened on August 29, 2019, at Disney\\'s Hollywood Studios at the Walt Disney World Resort in Orlando, Florida.\\nA third incarnation of the attraction has been announced for Walt Disney Studios Park at the Disneyland Paris Resort in Marne-la-Vallée, France.\\n\\n\\n== See also ==\\nList of Star Wars spacecraft\\n\\n\\n== References ==\\nFootnotes\\n\\nCitations\\n\\n\\n== External links ==\\nMillennium Falcon in the StarWars.com Databank\\nStar Wars\\'s channel on YouTube — Making of the Millennium Falcon, Millennium Falcon and Asteroids, Tour The Millennium Falcon with Donald Glover\\nILMVFX\\'s channel on YouTube - Creating Lando\\'s Millennium Falcon for Solo: A Star Wars Story, Behind the Magic of the Kessel Run\\nMillennium Falcon on Wookieepedia, a Star Wars wiki\\nMillennium Falcon Notes: information for model builders\\nHow Fast is the Millennium Falcon?: a thought experiment'"
      ]
     },
     "execution_count": 136,
     "metadata": {},
     "output_type": "execute_result"
    }
   ],
   "source": [
    "wikipedia.page('Millennium Falcon').content"
   ]
  },
  {
   "cell_type": "code",
   "execution_count": 137,
   "metadata": {},
   "outputs": [],
   "source": [
    "mfalcon_article = wikipedia.page('Millennium Falcon').content"
   ]
  },
  {
   "cell_type": "code",
   "execution_count": 146,
   "metadata": {},
   "outputs": [],
   "source": [
    "def text_to_graph(article, similarity_threshold):\n",
    "    # Convert to triples\n",
    "    triples = []\n",
    "    with StanfordOpenIE() as client:\n",
    "        for triple in client.annotate(article):\n",
    "            triples.append(triple)\n",
    "    print(f'Num of Triples: {len(triples)}')\n",
    "    \n",
    "    # Load BERT\n",
    "    nlp = en_trf_bertbaseuncased_lg.load()\n",
    "    article_enc = nlp(article)\n",
    "    \n",
    "    # Similarity Thresholding\n",
    "    triples_filtered = []\n",
    "    for triple in triples:\n",
    "        statement = ' '.join(x for x in triple.values())\n",
    "        similarity = article_enc.similarity(nlp(statement))\n",
    "        if similarity > similarity_threshold:\n",
    "            triples_filtered.append(triple)\n",
    "    print(f'Filtered Triples: {len(triples_filtered)}')\n",
    "    \n",
    "    # Need to add step here for contexualization\n",
    "    \n",
    "    # Create RDF graph\n",
    "    graph = Graph()\n",
    "    for triple in triples_filtered:\n",
    "        graph.add((\n",
    "            rdflib.Literal(triple['subject'], datatype=rdflib.namespace.XSD.string),\n",
    "            rdflib.Literal(triple['relation'], datatype=rdflib.namespace.XSD.string),\n",
    "            rdflib.Literal(triple['object'], datatype=rdflib.namespace.XSD.string)\n",
    "        ))\n",
    "    \n",
    "    return graph\n",
    "    "
   ]
  },
  {
   "cell_type": "code",
   "execution_count": 147,
   "metadata": {},
   "outputs": [
    {
     "name": "stdout",
     "output_type": "stream",
     "text": [
      "Starting server with command: java -Xmx8G -cp /Users/rhythmsyed/stanfordnlp_resources/stanford-corenlp-full-2018-10-05/* edu.stanford.nlp.pipeline.StanfordCoreNLPServer -port 9000 -timeout 60000 -threads 5 -maxCharLength 100000 -quiet True -serverProperties corenlp_server-712f785371b34522.props -preload openie\n",
      "Num of Triples: 1008\n",
      "Filtered Triples: 65\n"
     ]
    }
   ],
   "source": [
    "graph = text_to_graph(article=mfalcon_article, similarity_threshold=0.75)"
   ]
  },
  {
   "cell_type": "code",
   "execution_count": 149,
   "metadata": {},
   "outputs": [
    {
     "name": "stdout",
     "output_type": "stream",
     "text": [
      "Star Wars Story -> depicts -> YT-1300 light freighter\n",
      "original model -> used as -> Princess Leia 's ship\n",
      "Chewbacca -> take possession after -> Solo 's hibernation\n",
      "Hot Wheels playset.Lego -> has released -> multiple versions of Millennium Falcon\n",
      "Calrissian captains -> is with -> Nien Nunb as co-pilot\n",
      "Hot Wheels playset.Lego -> has released -> versions of Millennium Falcon\n",
      "Lego -> released -> Millennium Falcon set in Star Wars Ultimate Collectors Series\n",
      "it -> has subsequently appeared in -> Return of Jedi\n",
      "Obi-Wan Kenobi -> charter ship In -> Star Wars\n",
      "Chewbacca -> Back take possession after -> Solo 's hibernation by Empire\n",
      "Creating Lando -> has -> Millennium Falcon for Solo Behind Magic of Kessel Run Millennium Falcon on Wookieepedia\n",
      "James Luceno 's Millennium Falcon -> focuses on -> ship\n",
      "Chewbacca -> Back take possession after -> Solo 's hibernation in carbonite by Empire\n",
      "Star Wars Story -> depicts -> YT-1300 freighter\n",
      "version -> appears -> briefly on Coruscant in Revenge of Sith\n",
      "updated Millennium Falcon -> set in -> Star Wars Ultimate Collectors Series\n",
      "several characters -> board Falcon in -> sandstorm on Tatooine\n",
      "Leia -> take possession after -> Solo 's hibernation by Empire\n",
      "Solo -> take planet to -> First Order 's new Starkiller Base\n",
      "Solo -> integrating -> memory module of Lando 's damaged L3 droid\n",
      "James Luceno 's novel Millennium Falcon -> focuses on -> titular ship\n",
      "Leia -> take possession after -> Solo 's hibernation in carbonite by Empire\n",
      "Creating Lando -> 's Falcon is -> Star Wars wiki Millennium Falcon Notes\n",
      "Solo -> take planet to -> First Order 's Starkiller Base\n",
      "Star Wars Story -> depicts -> YT-1300 Corellian freighter\n",
      "ship -> outrun Imperial TIE fighters during -> asteroid-field-escape scene from film\n",
      "Leia -> take possession after -> Solo 's hibernation\n",
      "Luke Skywalker -> charter ship In -> Star Wars\n",
      "Leia -> Back take possession after -> Solo 's hibernation by Empire\n",
      "Falcon 's distinct shape -> appear in -> Star Trek\n",
      "it -> has appeared in -> Star Wars Holiday\n",
      "model -> used as -> Princess Leia 's ship\n",
      "Chewbacca -> take possession after -> Solo 's hibernation in carbonite by Empire\n",
      "32 model -> materials for -> Star Wars universe\n",
      "Leia -> Back take possession after -> Solo 's hibernation in carbonite by Empire\n",
      "Lando -> take possession after -> Solo 's hibernation by Empire\n",
      "Falcon 's shape -> appear in -> Star Trek\n",
      "Lego -> released -> updated Millennium Falcon set in Star Wars Ultimate Collectors Series\n",
      "it -> has subsequently appeared in -> Star Wars Holiday\n",
      "Lando -> take possession after -> Solo 's hibernation in carbonite by Empire\n",
      "Falcon -> appears again in -> Star Wars\n",
      "Chewbacca -> Back take possession after -> Solo 's hibernation in carbonite\n",
      "James Luceno 's novel Millennium Falcon -> focuses on -> ship\n",
      "Wheels -> has made -> model of ship for their Star Wars starship line\n",
      "model -> was -> version of Millennium Falcon most depicted in toys\n",
      "Luke Skywalker -> charter -> ship in Mos Eisley cantina\n",
      "Star Wars Story -> depicts -> YT-1300 Corellian light freighter\n",
      "digital version -> appears -> briefly on Coruscant in Revenge of Sith\n",
      "Solo -> take Finn to -> First Order 's new Starkiller Base\n",
      "Leia -> take possession after -> Solo 's hibernation in carbonite\n",
      "32 model -> was -> version of Millennium Falcon most depicted in toys\n",
      "Solo -> take Finn to -> First Order 's Starkiller Base\n",
      "Princess Leia -> 's ship is -> Tantive IV\n",
      "Chewbacca -> take possession after -> Solo 's hibernation in carbonite\n",
      "Hot Wheels -> has made -> model of ship for their Star Wars starship line\n",
      "Leia -> Back take possession after -> Solo 's hibernation in carbonite\n",
      "Falcon -> appears in -> Star Wars\n",
      "Solo -> leaves Tatooine During -> Return of Jedi\n",
      "James Luceno 's Millennium Falcon -> focuses on -> titular ship\n",
      "Falcon -> is with -> Chewbacca as her co-pilot\n",
      "Chewbacca -> take possession after -> Solo 's hibernation by Empire\n",
      "Lando -> take possession after -> Solo 's hibernation in carbonite\n",
      "ship -> outrun Imperial TIE fighters during -> asteroid-field-escape scene\n",
      "5,195-piece Lego model -> part of -> Star Wars Ultimate Collectors Series\n",
      "it -> has appeared in -> Return of Jedi\n"
     ]
    }
   ],
   "source": [
    "query_str = \"\"\"\n",
    "    SELECT ?s ?p ?o\n",
    "    WHERE {   \n",
    "        ?s ?p ?o.\n",
    "    }\n",
    "\"\"\"\n",
    "res = graph.query(query_str)\n",
    "\n",
    "for s,p,o in res:\n",
    "    print(s, '->', p, '->', o)"
   ]
  },
  {
   "cell_type": "code",
   "execution_count": null,
   "metadata": {},
   "outputs": [],
   "source": []
  }
 ],
 "metadata": {
  "kernelspec": {
   "display_name": "Python 3",
   "language": "python",
   "name": "python3"
  },
  "language_info": {
   "codemirror_mode": {
    "name": "ipython",
    "version": 3
   },
   "file_extension": ".py",
   "mimetype": "text/x-python",
   "name": "python",
   "nbconvert_exporter": "python",
   "pygments_lexer": "ipython3",
   "version": "3.8.3"
  }
 },
 "nbformat": 4,
 "nbformat_minor": 4
}
