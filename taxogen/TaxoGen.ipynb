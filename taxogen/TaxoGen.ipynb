{
 "cells": [
  {
   "cell_type": "markdown",
   "metadata": {},
   "source": [
    "# TaxoGen: Unsupervised Topic Taxonomy Construction by Adaptive Term Embedding and Clustering"
   ]
  },
  {
   "cell_type": "code",
   "execution_count": 35,
   "metadata": {},
   "outputs": [],
   "source": [
    "import pandas as pd\n",
    "import numpy as np"
   ]
  },
  {
   "cell_type": "code",
   "execution_count": 3,
   "metadata": {},
   "outputs": [],
   "source": [
    "corpus_name = 'starwars'\n",
    "taxonomy_name = 'starwarstaxo'"
   ]
  },
  {
   "cell_type": "markdown",
   "metadata": {},
   "source": [
    "#### dump entities into keywords.txt"
   ]
  },
  {
   "cell_type": "code",
   "execution_count": 33,
   "metadata": {},
   "outputs": [],
   "source": [
    "df = pd.read_csv('triple_output.csv')\n",
    "entities = df['Entity1'].append(df['Entity2']).reset_index(drop=True)"
   ]
  },
  {
   "cell_type": "code",
   "execution_count": 41,
   "metadata": {},
   "outputs": [],
   "source": [
    "np.savetxt('./data/starwars/raw/keywords.txt', entities.values, fmt='%s')"
   ]
  },
  {
   "cell_type": "markdown",
   "metadata": {},
   "source": [
    "#### create word embeddings using word2vec"
   ]
  },
  {
   "cell_type": "code",
   "execution_count": 49,
   "metadata": {},
   "outputs": [
    {
     "name": "stdout",
     "output_type": "stream",
     "text": [
      "Starting training using file ./data/starwars/raw/keywords.txt\n",
      "Vocab size: 9\n",
      "Words in train file: 168\n"
     ]
    }
   ],
   "source": [
    "! ./code/word2vec -train ./data/starwars/raw/keywords.txt -output ./data/starwars/input/embeddings.txt"
   ]
  },
  {
   "cell_type": "markdown",
   "metadata": {},
   "source": [
    "#### start cluster-preprocess.py"
   ]
  },
  {
   "cell_type": "code",
   "execution_count": 51,
   "metadata": {},
   "outputs": [
    {
     "name": "stdout",
     "output_type": "stream",
     "text": [
      "starwars\n",
      "Done trimming the keywords.\n",
      "Done trimming the documents.\n",
      "Done counting the keywords in documents.\n",
      "Done generating the doc ids.\n"
     ]
    }
   ],
   "source": [
    "! python code/cluster-preprocess.py $corpus_name"
   ]
  },
  {
   "cell_type": "markdown",
   "metadata": {},
   "source": [
    "#### start preprocess.py"
   ]
  },
  {
   "cell_type": "code",
   "execution_count": 53,
   "metadata": {},
   "outputs": [],
   "source": [
    "! python code/preprocess.py $corpus_name"
   ]
  },
  {
   "cell_type": "code",
   "execution_count": 55,
   "metadata": {},
   "outputs": [],
   "source": [
    "! cp ./data/$corpus_name/input/embeddings.txt ./data/$corpus_name/init/embeddings.txt"
   ]
  },
  {
   "cell_type": "code",
   "execution_count": 56,
   "metadata": {},
   "outputs": [],
   "source": [
    "! cp ./data/$corpus_name/input/keywords.txt ./data/$corpus_name/init/seed_keywords.txt"
   ]
  },
  {
   "cell_type": "markdown",
   "metadata": {},
   "source": [
    "#### Run TaxoGen"
   ]
  },
  {
   "cell_type": "code",
   "execution_count": 84,
   "metadata": {},
   "outputs": [
    {
     "name": "stdout",
     "output_type": "stream",
     "text": [
      "/Users/rhythmsyed/miniconda3/envs/entitylink/lib/python3.7/site-packages/sklearn/externals/joblib/externals/cloudpickle/cloudpickle.py:47: DeprecationWarning: the imp module is deprecated in favour of importlib; see the module's documentation for alternative uses\n",
      "  import imp\n",
      "./data/starwars/\n",
      "./data/starwars/init/\n",
      "./data/starwars/starwarsroot/\n",
      "============================= Running level  0  and node  * =============================\n",
      "[Main] Done reading the full data using time 0.0003871917724609375 seconds\n",
      "Start clustering for  11  keywords under parent: *\n",
      "bbbbbbb\n",
      "bbbbbbb\n",
      "bbbbbbb\n",
      "bbbbbbb\n",
      "bbbbbbb\n",
      "bbbbbbb\n",
      "Clustering concentration score: 1.099120794378905e-14\n",
      "bbbbbbb\n",
      "Done clustering for  11  keywords under parent: *\n",
      "Done saving cluster results for  11  keywords under parent: *\n",
      "[CaseOLAP] Read document cluster membership file done.\n",
      "[CaseOLAP] Read keyword_cnt file done.\n",
      "[CaseOLAP] Read keyword cluster membership file done.\n",
      "[CaseOLAP] Running CaseOLAP for cell: 1\n",
      "[CaseOLAP] Finished CaseOLAP for cell: 1\n",
      "[CaseOLAP] Running CaseOLAP for cell: 2\n",
      "[CaseOLAP] Finished CaseOLAP for cell: 2\n",
      "[CaseOLAP] Running CaseOLAP for cell: 0\n",
      "[CaseOLAP] Finished CaseOLAP for cell: 0\n",
      "[CaseOLAP] Finish pushing general terms up\n",
      "[Main] Finish running CaseOALP using 0.0012521743774414062 (seconds)\n",
      "Start clustering for  3  keywords under parent: *\n",
      "bbbbbbb\n",
      "bbbbbbb\n",
      "bbbbbbb\n",
      "bbbbbbb\n",
      "bbbbbbb\n",
      "bbbbbbb\n",
      "Clustering concentration score: 2.220446049250313e-15\n",
      "bbbbbbb\n",
      "Done clustering for  3  keywords under parent: *\n",
      "Done saving cluster results for  3  keywords under parent: *\n",
      "[CaseOLAP] Read document cluster membership file done.\n",
      "[CaseOLAP] Read keyword_cnt file done.\n",
      "[CaseOLAP] Read keyword cluster membership file done.\n",
      "[CaseOLAP] Running CaseOLAP for cell: 0\n",
      "[CaseOLAP] Finished CaseOLAP for cell: 0\n",
      "[CaseOLAP] Running CaseOLAP for cell: 2\n",
      "[CaseOLAP] Finished CaseOLAP for cell: 2\n",
      "[CaseOLAP] Running CaseOLAP for cell: 1\n",
      "[CaseOLAP] Finished CaseOLAP for cell: 1\n",
      "[CaseOLAP] Finish pushing general terms up\n",
      "[Main] Finish running CaseOALP using 0.001439809799194336 (seconds)\n"
     ]
    }
   ],
   "source": [
    "! python code/main.py $corpus_name"
   ]
  },
  {
   "cell_type": "markdown",
   "metadata": {},
   "source": [
    "#### Generate compressed taxonomy"
   ]
  },
  {
   "cell_type": "code",
   "execution_count": 75,
   "metadata": {},
   "outputs": [
    {
     "name": "stdout",
     "output_type": "stream",
     "text": [
      "./data/starwars/starwarsroot ./data/starwars/starwarstaxo/taxonomy.txt\r\n"
     ]
    }
   ],
   "source": [
    "! python code/compress.py ./data/starwars/starwarsroot ./data/starwars/starwarstaxo/taxonomy.txt"
   ]
  },
  {
   "cell_type": "markdown",
   "metadata": {},
   "source": [
    "#### Read Hierarchy"
   ]
  },
  {
   "cell_type": "code",
   "execution_count": 89,
   "metadata": {},
   "outputs": [
    {
     "data": {
      "text/html": [
       "<div>\n",
       "<style scoped>\n",
       "    .dataframe tbody tr th:only-of-type {\n",
       "        vertical-align: middle;\n",
       "    }\n",
       "\n",
       "    .dataframe tbody tr th {\n",
       "        vertical-align: top;\n",
       "    }\n",
       "\n",
       "    .dataframe thead th {\n",
       "        text-align: right;\n",
       "    }\n",
       "</style>\n",
       "<table border=\"1\" class=\"dataframe\">\n",
       "  <thead>\n",
       "    <tr style=\"text-align: right;\">\n",
       "      <th></th>\n",
       "      <th>0</th>\n",
       "    </tr>\n",
       "  </thead>\n",
       "  <tbody>\n",
       "    <tr>\n",
       "      <th>0</th>\n",
       "      <td>Skywalker *</td>\n",
       "    </tr>\n",
       "    <tr>\n",
       "      <th>1</th>\n",
       "      <td>Jedi *</td>\n",
       "    </tr>\n",
       "    <tr>\n",
       "      <th>2</th>\n",
       "      <td>character *</td>\n",
       "    </tr>\n",
       "  </tbody>\n",
       "</table>\n",
       "</div>"
      ],
      "text/plain": [
       "             0\n",
       "0  Skywalker *\n",
       "1       Jedi *\n",
       "2  character *"
      ]
     },
     "execution_count": 89,
     "metadata": {},
     "output_type": "execute_result"
    }
   ],
   "source": [
    "data = pd.read_csv('./data/starwars/starwarsroot/hierarchy.txt', sep=\"\\n\", header=None)\n",
    "data"
   ]
  },
  {
   "cell_type": "code",
   "execution_count": null,
   "metadata": {},
   "outputs": [],
   "source": []
  }
 ],
 "metadata": {
  "kernelspec": {
   "display_name": "Python 3",
   "language": "python",
   "name": "python3"
  },
  "language_info": {
   "codemirror_mode": {
    "name": "ipython",
    "version": 3
   },
   "file_extension": ".py",
   "mimetype": "text/x-python",
   "name": "python",
   "nbconvert_exporter": "python",
   "pygments_lexer": "ipython3",
   "version": "3.7.5"
  }
 },
 "nbformat": 4,
 "nbformat_minor": 4
}
